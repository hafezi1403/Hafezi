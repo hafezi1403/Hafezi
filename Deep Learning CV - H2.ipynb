{
  "nbformat": 4,
  "nbformat_minor": 0,
  "metadata": {
    "colab": {
      "provenance": [],
      "authorship_tag": "ABX9TyM8jAt09QOFPbrD/CsDo+xm",
      "include_colab_link": true
    },
    "kernelspec": {
      "name": "python3",
      "display_name": "Python 3"
    },
    "language_info": {
      "name": "python"
    }
  },
  "cells": [
    {
      "cell_type": "markdown",
      "metadata": {
        "id": "view-in-github",
        "colab_type": "text"
      },
      "source": [
        "<a href=\"https://colab.research.google.com/github/hafezi1403/Hafezi/blob/main/Deep%20Learning%20CV%20-%20H2.ipynb\" target=\"_parent\"><img src=\"https://colab.research.google.com/assets/colab-badge.svg\" alt=\"Open In Colab\"/></a>"
      ]
    },
    {
      "cell_type": "code",
      "execution_count": 28,
      "metadata": {
        "id": "ApRjai1YGFi8"
      },
      "outputs": [],
      "source": [
        "import tensorflow as tf\n",
        "import numpy as np"
      ]
    },
    {
      "cell_type": "code",
      "source": [
        "random_tensor = tf.random .uniform(\n",
        "[5, ],\n",
        "minval=0,\n",
        "maxval=8,\n",
        "dtype=tf.dtypes.float32,\n",
        "seed=None,\n",
        "name=None,\n",
        ")\n",
        "print(random_tensor)"
      ],
      "metadata": {
        "colab": {
          "base_uri": "https://localhost:8080/"
        },
        "id": "lUzBeaLpGT60",
        "outputId": "73492b81-20ff-400f-aad5-2bd53d41e7da"
      },
      "execution_count": 29,
      "outputs": [
        {
          "output_type": "stream",
          "name": "stdout",
          "text": [
            "tf.Tensor([5.0111446 4.2387457 6.0676575 4.0679073 2.75323  ], shape=(5,), dtype=float32)\n"
          ]
        }
      ]
    },
    {
      "cell_type": "code",
      "source": [
        "tf.random.set_seed(5)\n",
        "print(tf.random.uniform(shape=[3,],maxval=5,dtype=tf.int32,seed=10))\n",
        "print(tf.random.uniform(shape=[3,],maxval=5,dtype=tf.int32,seed=10))\n",
        "print(tf.random.uniform(shape=[3,],maxval=5,dtype=tf.int32,seed=10))\n",
        "print(tf.random.uniform(shape=[3,],maxval=5,dtype=tf.int32,seed=10))"
      ],
      "metadata": {
        "colab": {
          "base_uri": "https://localhost:8080/"
        },
        "id": "IJQpIwA2IP4C",
        "outputId": "fc7e410d-1658-4d59-de2d-411aa12816ef"
      },
      "execution_count": 34,
      "outputs": [
        {
          "output_type": "stream",
          "name": "stdout",
          "text": [
            "tf.Tensor([4 3 1], shape=(3,), dtype=int32)\n",
            "tf.Tensor([4 3 2], shape=(3,), dtype=int32)\n",
            "tf.Tensor([1 1 1], shape=(3,), dtype=int32)\n",
            "tf.Tensor([1 3 3], shape=(3,), dtype=int32)\n"
          ]
        }
      ]
    },
    {
      "cell_type": "code",
      "source": [
        "tensor_indexed = tf.constant([3,6,2,4,6,66,7])\n",
        "print (tensor_indexed)\n",
        "print (tensor_indexed[0:4])\n",
        "print (tensor_indexed[3:-3])"
      ],
      "metadata": {
        "colab": {
          "base_uri": "https://localhost:8080/"
        },
        "id": "ghY4R5EOGVq_",
        "outputId": "9da9285a-0712-490d-d343-e505e30631aa"
      },
      "execution_count": 3,
      "outputs": [
        {
          "output_type": "stream",
          "name": "stdout",
          "text": [
            "tf.Tensor([ 3  6  2  4  6 66  7], shape=(7,), dtype=int32)\n",
            "tf.Tensor([3 6 2 4], shape=(4,), dtype=int32)\n",
            "tf.Tensor([4], shape=(1,), dtype=int32)\n"
          ]
        }
      ]
    },
    {
      "cell_type": "code",
      "source": [
        "tensor_two_d=tf.constant([\n",
        "    [1,2,0],\n",
        "    [3,5,-1],\n",
        "    [1,5,6],\n",
        "    [2,3,8]\n",
        "    ])\n",
        "print(tensor_two_d[0:3,0:2])"
      ],
      "metadata": {
        "colab": {
          "base_uri": "https://localhost:8080/"
        },
        "id": "4AdEVGijGad7",
        "outputId": "da8036e2-d5b4-4555-ccf6-47dff36679a2"
      },
      "execution_count": 4,
      "outputs": [
        {
          "output_type": "stream",
          "name": "stdout",
          "text": [
            "tf.Tensor(\n",
            "[[1 2]\n",
            " [3 5]\n",
            " [1 5]], shape=(3, 2), dtype=int32)\n"
          ]
        }
      ]
    },
    {
      "cell_type": "code",
      "source": [
        "tensor_three_d=tf.constant([\n",
        "    [[2,20,3],\n",
        "     [3,4,5]],\n",
        "    [[4,78,6],\n",
        "     [5,46,7]],\n",
        "    [[6,103,8],\n",
        "    [7,8,999]],\n",
        "])\n",
        "print(tensor_three_d[0,0,:])"
      ],
      "metadata": {
        "colab": {
          "base_uri": "https://localhost:8080/"
        },
        "id": "zB9krxWuGdUr",
        "outputId": "fc436d0a-81ab-41bc-ec4c-dba28b008129"
      },
      "execution_count": 5,
      "outputs": [
        {
          "output_type": "stream",
          "name": "stdout",
          "text": [
            "tf.Tensor([ 2 20  3], shape=(3,), dtype=int32)\n"
          ]
        }
      ]
    },
    {
      "cell_type": "code",
      "source": [
        "x_abs=tf.constant ([-2.25,3.25])\n",
        "tf.abs(x_abs)"
      ],
      "metadata": {
        "colab": {
          "base_uri": "https://localhost:8080/"
        },
        "id": "Tq2szaPuGgKr",
        "outputId": "fdeb1e93-a916-4aaa-d95c-d558820a6a3d"
      },
      "execution_count": 6,
      "outputs": [
        {
          "output_type": "execute_result",
          "data": {
            "text/plain": [
              "<tf.Tensor: shape=(2,), dtype=float32, numpy=array([2.25, 3.25], dtype=float32)>"
            ]
          },
          "metadata": {},
          "execution_count": 6
        }
      ]
    },
    {
      "cell_type": "code",
      "source": [
        "tf.abs(tf.constant(-0.2))"
      ],
      "metadata": {
        "colab": {
          "base_uri": "https://localhost:8080/"
        },
        "id": "E4WNkyXHGjeb",
        "outputId": "86886568-d0dd-4bb3-e224-17b9859117f0"
      },
      "execution_count": 7,
      "outputs": [
        {
          "output_type": "execute_result",
          "data": {
            "text/plain": [
              "<tf.Tensor: shape=(), dtype=float32, numpy=0.20000000298023224>"
            ]
          },
          "metadata": {},
          "execution_count": 7
        }
      ]
    },
    {
      "cell_type": "code",
      "source": [
        "x_abs_complex=tf.constant([-2.25+4.75j])\n",
        "tf.abs(x_abs_complex)"
      ],
      "metadata": {
        "colab": {
          "base_uri": "https://localhost:8080/"
        },
        "id": "g856Y2qbGnKE",
        "outputId": "b9ed4c47-a7e2-40b5-ee64-0d384981c255"
      },
      "execution_count": 8,
      "outputs": [
        {
          "output_type": "execute_result",
          "data": {
            "text/plain": [
              "<tf.Tensor: shape=(1,), dtype=float64, numpy=array([5.25594901])>"
            ]
          },
          "metadata": {},
          "execution_count": 8
        }
      ]
    },
    {
      "cell_type": "code",
      "source": [
        "tf.sqrt ((-2.25)**2+4.75**2)"
      ],
      "metadata": {
        "colab": {
          "base_uri": "https://localhost:8080/"
        },
        "id": "FPb5GO7AGoir",
        "outputId": "407dbad7-cef8-4cfe-d55b-1d9f8b661aec"
      },
      "execution_count": 9,
      "outputs": [
        {
          "output_type": "execute_result",
          "data": {
            "text/plain": [
              "<tf.Tensor: shape=(), dtype=float32, numpy=5.255949020385742>"
            ]
          },
          "metadata": {},
          "execution_count": 9
        }
      ]
    },
    {
      "cell_type": "code",
      "source": [
        "x_1 = tf.constant ([5,3,6,6,4,6],dtype=tf.int32)\n",
        "x_2 = tf.constant ([7,6,2,6,7,11],dtype=tf.int32)\n",
        "print (tf.divide (x_1 , x_2))"
      ],
      "metadata": {
        "colab": {
          "base_uri": "https://localhost:8080/"
        },
        "id": "QKRDzM2HGtc8",
        "outputId": "29c924d1-803a-4673-b454-6d2a12d08776"
      },
      "execution_count": 10,
      "outputs": [
        {
          "output_type": "stream",
          "name": "stdout",
          "text": [
            "tf.Tensor([0.71428571 0.5        3.         1.         0.57142857 0.54545455], shape=(6,), dtype=float64)\n"
          ]
        }
      ]
    },
    {
      "cell_type": "code",
      "source": [
        "x_1 = tf.constant ([[5,3,6,6,4,6],], dtype=tf.float32)\n",
        "x_2 = tf.constant ([[7],[5],[3]], dtype = tf.float32)\n",
        "\n",
        "print(x_1.shape)\n",
        "print(x_2.shape)\n",
        "print(tf.math.multiply(x_1,x_2))"
      ],
      "metadata": {
        "colab": {
          "base_uri": "https://localhost:8080/"
        },
        "id": "Lgyqnk0YGup7",
        "outputId": "41baae92-4774-49ba-d6d6-35c628117eb3"
      },
      "execution_count": 11,
      "outputs": [
        {
          "output_type": "stream",
          "name": "stdout",
          "text": [
            "(1, 6)\n",
            "(3, 1)\n",
            "tf.Tensor(\n",
            "[[35. 21. 42. 42. 28. 42.]\n",
            " [25. 15. 30. 30. 20. 30.]\n",
            " [15.  9. 18. 18. 12. 18.]], shape=(3, 6), dtype=float32)\n"
          ]
        }
      ]
    },
    {
      "cell_type": "code",
      "source": [
        "x_argmax=tf.constant([[2,20,30,3,6],\n",
        "                      [3,11,16,1,8],\n",
        "                      [14,45,23,5,27]])\n",
        "\n",
        "print (x_argmax.shape)\n",
        "print (tf.math.argmax(x_argmax,0))"
      ],
      "metadata": {
        "colab": {
          "base_uri": "https://localhost:8080/"
        },
        "id": "S0T01om_GxfL",
        "outputId": "890cd876-dc17-4f5c-8020-435e36274dd2"
      },
      "execution_count": 12,
      "outputs": [
        {
          "output_type": "stream",
          "name": "stdout",
          "text": [
            "(3, 5)\n",
            "tf.Tensor([2 2 0 2 2], shape=(5,), dtype=int64)\n"
          ]
        }
      ]
    },
    {
      "cell_type": "code",
      "source": [
        "x_argmax=tf.constant ([200,120,130,3,6])\n",
        "print (tf.math.argmax(x_argmax))"
      ],
      "metadata": {
        "colab": {
          "base_uri": "https://localhost:8080/"
        },
        "id": "i2pSUSm4G0Gs",
        "outputId": "ff2006cc-3846-4623-b535-77adbaf5bea5"
      },
      "execution_count": 13,
      "outputs": [
        {
          "output_type": "stream",
          "name": "stdout",
          "text": [
            "tf.Tensor(0, shape=(), dtype=int64)\n"
          ]
        }
      ]
    },
    {
      "cell_type": "code",
      "source": [
        "x_argmax=tf.constant([200,120,130,300,6])\n",
        "print(tf.math.argmax(x_argmax))"
      ],
      "metadata": {
        "colab": {
          "base_uri": "https://localhost:8080/"
        },
        "id": "ti626tDpG2bT",
        "outputId": "365620cd-b772-46c2-cf74-ef93c03921ac"
      },
      "execution_count": 14,
      "outputs": [
        {
          "output_type": "stream",
          "name": "stdout",
          "text": [
            "tf.Tensor(3, shape=(), dtype=int64)\n"
          ]
        }
      ]
    },
    {
      "cell_type": "code",
      "source": [
        "\n",
        "x=tf.constant([[2,2],[3,3]])\n",
        "y=tf.constant([[3,0],[1,4]])\n",
        "tf.pow(x,y)"
      ],
      "metadata": {
        "colab": {
          "base_uri": "https://localhost:8080/"
        },
        "id": "YqIBWwOTG5N7",
        "outputId": "56319352-9b08-4ba5-8012-52bfb0c1892d"
      },
      "execution_count": 15,
      "outputs": [
        {
          "output_type": "execute_result",
          "data": {
            "text/plain": [
              "<tf.Tensor: shape=(2, 2), dtype=int32, numpy=\n",
              "array([[ 8,  1],\n",
              "       [ 3, 81]], dtype=int32)>"
            ]
          },
          "metadata": {},
          "execution_count": 15
        }
      ]
    },
    {
      "cell_type": "code",
      "source": [
        "tf.pow(tf.constant(2),tf.constant(3))"
      ],
      "metadata": {
        "colab": {
          "base_uri": "https://localhost:8080/"
        },
        "id": "BgVqeeWRG7pz",
        "outputId": "e300926d-4edc-4299-ecee-3f4bfb95a4f1"
      },
      "execution_count": 16,
      "outputs": [
        {
          "output_type": "execute_result",
          "data": {
            "text/plain": [
              "<tf.Tensor: shape=(), dtype=int32, numpy=8>"
            ]
          },
          "metadata": {},
          "execution_count": 16
        }
      ]
    },
    {
      "cell_type": "code",
      "source": [
        "\n",
        "tensor_two_d=tf.constant([\n",
        "    [1,-2,0],\n",
        "    [3,5,100],\n",
        "    [1,5,6],\n",
        "    [2,3,8]\n",
        "    ])\n",
        "print(tensor_two_d.shape)\n",
        "print(tf.math.reduce_sum(tensor_two_d,axis=0,keepdims=False,name=None))"
      ],
      "metadata": {
        "colab": {
          "base_uri": "https://localhost:8080/"
        },
        "id": "ltPYvCnQKXxS",
        "outputId": "8bb3fd0d-0813-441c-e877-6a9896a309c9"
      },
      "execution_count": 37,
      "outputs": [
        {
          "output_type": "stream",
          "name": "stdout",
          "text": [
            "(4, 3)\n",
            "tf.Tensor([  7  11 114], shape=(3,), dtype=int32)\n"
          ]
        }
      ]
    },
    {
      "cell_type": "code",
      "source": [
        "tf.math.top_k(tensor_two_d,k=1)"
      ],
      "metadata": {
        "colab": {
          "base_uri": "https://localhost:8080/"
        },
        "id": "xD9vsHveHNfa",
        "outputId": "97ef7bcb-89c0-4351-b42c-59083aa1add9"
      },
      "execution_count": 18,
      "outputs": [
        {
          "output_type": "execute_result",
          "data": {
            "text/plain": [
              "TopKV2(values=<tf.Tensor: shape=(4, 1), dtype=int32, numpy=\n",
              "array([[  1],\n",
              "       [100],\n",
              "       [  6],\n",
              "       [  8]], dtype=int32)>, indices=<tf.Tensor: shape=(4, 1), dtype=int32, numpy=\n",
              "array([[0],\n",
              "       [2],\n",
              "       [2],\n",
              "       [2]], dtype=int32)>)"
            ]
          },
          "metadata": {},
          "execution_count": 18
        }
      ]
    },
    {
      "cell_type": "code",
      "source": [
        "\n",
        "x_1 = tf.constant ([[1,2,0],\n",
        "                    [3,5,-1]])\n",
        "x_2 = tf.constant ([[1,2,0,2],\n",
        "                    [3,5,-1,2],\n",
        "                    [4,5,6,0]])\n",
        "print(x_1.shape,x_2.shape)\n",
        "tf.linalg.matmul(\n",
        "x_1,x_2,transpose_a=False,transpose_b=False, adjoint_a=False, adjoint_b=False,\n",
        "a_is_sparse=False, b_is_sparse=False, output_type=None\n",
        ")"
      ],
      "metadata": {
        "colab": {
          "base_uri": "https://localhost:8080/"
        },
        "id": "mSAQ6sjNK3rk",
        "outputId": "960ad3b3-d182-41fe-c168-153d9f6dc018"
      },
      "execution_count": 39,
      "outputs": [
        {
          "output_type": "stream",
          "name": "stdout",
          "text": [
            "(2, 3) (3, 4)\n"
          ]
        },
        {
          "output_type": "execute_result",
          "data": {
            "text/plain": [
              "<tf.Tensor: shape=(2, 4), dtype=int32, numpy=\n",
              "array([[  7,  12,  -2,   6],\n",
              "       [ 14,  26, -11,  16]], dtype=int32)>"
            ]
          },
          "metadata": {},
          "execution_count": 39
        }
      ]
    },
    {
      "cell_type": "code",
      "source": [
        "print(x_1@x_2)"
      ],
      "metadata": {
        "colab": {
          "base_uri": "https://localhost:8080/"
        },
        "id": "B93hcyj2L5I2",
        "outputId": "1b931177-5dfe-47b1-fafe-1786114c93ec"
      },
      "execution_count": 40,
      "outputs": [
        {
          "output_type": "stream",
          "name": "stdout",
          "text": [
            "tf.Tensor(\n",
            "[[  7  12  -2   6]\n",
            " [ 14  26 -11  16]], shape=(2, 4), dtype=int32)\n"
          ]
        }
      ]
    }
  ]
}