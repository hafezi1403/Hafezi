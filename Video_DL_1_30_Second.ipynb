{
  "nbformat": 4,
  "nbformat_minor": 0,
  "metadata": {
    "colab": {
      "provenance": [],
      "authorship_tag": "ABX9TyNsFO2Q310rV9OqA9tHvc5D",
      "include_colab_link": true
    },
    "kernelspec": {
      "name": "python3",
      "display_name": "Python 3"
    },
    "language_info": {
      "name": "python"
    }
  },
  "cells": [
    {
      "cell_type": "markdown",
      "metadata": {
        "id": "view-in-github",
        "colab_type": "text"
      },
      "source": [
        "<a href=\"https://colab.research.google.com/github/hafezi1403/Hafezi/blob/main/Video_DL_1_30_Second.ipynb\" target=\"_parent\"><img src=\"https://colab.research.google.com/assets/colab-badge.svg\" alt=\"Open In Colab\"/></a>"
      ]
    },
    {
      "cell_type": "code",
      "execution_count": 1,
      "metadata": {
        "id": "B4v6eHY78KtQ"
      },
      "outputs": [],
      "source": [
        "import tensorflow as tf\n",
        "import numpy as np"
      ]
    },
    {
      "cell_type": "code",
      "source": [
        "\n",
        "tensor_two_d=tf.constant([[1,-2,0],\n",
        "                          [3,5,100],\n",
        "                          [1,5,6]],dtype=tf.float32)\n",
        "\n",
        "s,u,v=tf.linalg.svd(tensor_two_d)\n",
        "print(s)\n",
        "print(u)\n",
        "print(v)"
      ],
      "metadata": {
        "colab": {
          "base_uri": "https://localhost:8080/"
        },
        "id": "Do51meAp8WXp",
        "outputId": "4cc96fcc-fe5b-4396-f1b5-2bdd10e8cb2d"
      },
      "execution_count": 2,
      "outputs": [
        {
          "output_type": "stream",
          "name": "stdout",
          "text": [
            "tf.Tensor([100.3663      5.1059036   1.2371687], shape=(3,), dtype=float32)\n",
            "tf.Tensor(\n",
            "[[-7.4980810e-04 -3.7569830e-01  9.2674178e-01]\n",
            " [ 9.9803799e-01 -5.8300879e-02 -2.2827482e-02]\n",
            " [ 6.2606096e-02  9.2490643e-01  3.7500489e-01]], shape=(3, 3), dtype=float32)\n",
            "tf.Tensor(\n",
            "[[ 0.03044816  0.07330841  0.99684453]\n",
            " [ 0.0528536   0.9957936  -0.07484547]\n",
            " [ 0.998138   -0.05496572 -0.02644547]], shape=(3, 3), dtype=float32)\n"
          ]
        }
      ]
    },
    {
      "cell_type": "code",
      "source": [
        "A=np.array([[2,6,5,2],\n",
        "            [2,-2,2,3],\n",
        "            [1,5,4,0]])\n",
        "\n",
        "B=np.array([[2,9,0,3,0],\n",
        "            [3,6,8,-2,2],\n",
        "            [1,3,5,0,1],\n",
        "            [3,0,2,0,5]])\n",
        "print(A.shape)\n",
        "print(B.shape)\n",
        "print(\"Matmul c=: \\n\")\n",
        "print(np.matmul(A,B), \"\\n\")\n",
        "print(\"Einsum c=:\\n\")\n",
        "print(np.einsum(\"ij,jk -> ik\",A,B))"
      ],
      "metadata": {
        "colab": {
          "base_uri": "https://localhost:8080/"
        },
        "id": "eL9p6mRr8Xqu",
        "outputId": "8039b8fc-d4a4-416f-a438-d1fb81b0c823"
      },
      "execution_count": 3,
      "outputs": [
        {
          "output_type": "stream",
          "name": "stdout",
          "text": [
            "(3, 4)\n",
            "(4, 5)\n",
            "Matmul c=: \n",
            "\n",
            "[[33 69 77 -6 27]\n",
            " [ 9 12  0 10 13]\n",
            " [21 51 60 -7 14]] \n",
            "\n",
            "Einsum c=:\n",
            "\n",
            "[[33 69 77 -6 27]\n",
            " [ 9 12  0 10 13]\n",
            " [21 51 60 -7 14]]\n"
          ]
        }
      ]
    },
    {
      "cell_type": "code",
      "source": [
        "A=np.array([[2,6,5,2],\n",
        "            [2,-2,2,3],\n",
        "            [1,5,4,0]])\n",
        "\n",
        "\n",
        "B=np.array([[2,9,0,3],\n",
        "            [3,6,8,-2],\n",
        "            [1,3,5,0]])\n",
        "\n",
        "print(A.shape,B.shape)\n",
        "print(\"Hardamond c=:\\n\")\n",
        "print(A*B, \"\\n\")\n",
        "\n",
        "print(\"Einsum c=:\\n\")\n",
        "print(np.einsum('ij,ij -> ij',A,B))"
      ],
      "metadata": {
        "colab": {
          "base_uri": "https://localhost:8080/"
        },
        "id": "fE-JP-Ww8bD2",
        "outputId": "84a5e967-06a4-4dd8-ac7e-f8865e8f9bde"
      },
      "execution_count": 4,
      "outputs": [
        {
          "output_type": "stream",
          "name": "stdout",
          "text": [
            "(3, 4) (3, 4)\n",
            "Hardamond c=:\n",
            "\n",
            "[[  4  54   0   6]\n",
            " [  6 -12  16  -6]\n",
            " [  1  15  20   0]] \n",
            "\n",
            "Einsum c=:\n",
            "\n",
            "[[  4  54   0   6]\n",
            " [  6 -12  16  -6]\n",
            " [  1  15  20   0]]\n"
          ]
        }
      ]
    },
    {
      "cell_type": "code",
      "source": [
        "A=np.array([[2,6,5,2],\n",
        "            [2,-2,2,3],\n",
        "            [1,5,4,0]])\n",
        "\n",
        "print(\"Transposed A=:\\n\")\n",
        "print(A.T, \"\\n\")\n",
        "\n",
        "print(\"Einsum Transpose A=:\\n\")\n",
        "print(np.einsum(\"ij -> ji\",A))"
      ],
      "metadata": {
        "colab": {
          "base_uri": "https://localhost:8080/"
        },
        "id": "vygEpOwY8eO0",
        "outputId": "bf1900e0-22f3-4749-f388-cb87f17b58db"
      },
      "execution_count": 5,
      "outputs": [
        {
          "output_type": "stream",
          "name": "stdout",
          "text": [
            "Transposed A=:\n",
            "\n",
            "[[ 2  2  1]\n",
            " [ 6 -2  5]\n",
            " [ 5  2  4]\n",
            " [ 2  3  0]] \n",
            "\n",
            "Einsum Transpose A=:\n",
            "\n",
            "[[ 2  2  1]\n",
            " [ 6 -2  5]\n",
            " [ 5  2  4]\n",
            " [ 2  3  0]]\n"
          ]
        }
      ]
    },
    {
      "cell_type": "code",
      "source": [
        "A=np.array([[[2,6,5,2],\n",
        "            [2,-2,2,3],\n",
        "            [1,5,4,0]],\n",
        "\n",
        "            [[1,3,1,22],\n",
        "             [0,2,2,0],\n",
        "             [1,5,4,1]]])\n",
        "\n",
        "B=np.array([\n",
        "            [[2,9,0,3,0],\n",
        "            [3,6,8,-2,2],\n",
        "            [1,3,5,0,1],\n",
        "            [3,0,2,0,5]],\n",
        "\n",
        "           [[1,0,0,3,0],\n",
        "            [3,0,4,-2,2],\n",
        "            [1,0,2,0,0],\n",
        "            [3,0,1,1,0]]])\n",
        "print(A.shape,B.shape)\n",
        "\n",
        "print(\"Batch Muitiplication c=:\\n\")\n",
        "print(np.matmul(A,B),\"\\n\")\n",
        "\n",
        "print(\"Einsum c=:\\n\")\n",
        "print(np.einsum('bij,bjk -> bik', A,B))"
      ],
      "metadata": {
        "colab": {
          "base_uri": "https://localhost:8080/"
        },
        "id": "-zwS9NTC8hC2",
        "outputId": "57f4c6b5-d417-41e6-f49a-1a7f5525d747"
      },
      "execution_count": 6,
      "outputs": [
        {
          "output_type": "stream",
          "name": "stdout",
          "text": [
            "(2, 3, 4) (2, 4, 5)\n",
            "Batch Muitiplication c=:\n",
            "\n",
            "[[[33 69 77 -6 27]\n",
            "  [ 9 12  0 10 13]\n",
            "  [21 51 60 -7 14]]\n",
            "\n",
            " [[77  0 36 19  6]\n",
            "  [ 8  0 12 -4  4]\n",
            "  [23  0 29 -6 10]]] \n",
            "\n",
            "Einsum c=:\n",
            "\n",
            "[[[33 69 77 -6 27]\n",
            "  [ 9 12  0 10 13]\n",
            "  [21 51 60 -7 14]]\n",
            "\n",
            " [[77  0 36 19  6]\n",
            "  [ 8  0 12 -4  4]\n",
            "  [23  0 29 -6 10]]]\n"
          ]
        }
      ]
    },
    {
      "cell_type": "code",
      "source": [
        "A=np.array([[[2,6,5,2],\n",
        "            [2,-2,2,3],\n",
        "            [1,5,4,0]],\n",
        "\n",
        "            [[1,3,1,22],\n",
        "             [0,2,2,0],\n",
        "             [1,5,4,1]]])\n",
        "print(\"sum A=: \\n\")\n",
        "print(np.sum(A), \"\\n\")\n",
        "\n",
        "print(\"Einsum A=:\\n\")\n",
        "print(np.einsum('bij -> ' ,A))"
      ],
      "metadata": {
        "colab": {
          "base_uri": "https://localhost:8080/"
        },
        "id": "XT1PPHFn8mm6",
        "outputId": "9108dc2f-f0c8-418a-b6af-0645af2b1a92"
      },
      "execution_count": 7,
      "outputs": [
        {
          "output_type": "stream",
          "name": "stdout",
          "text": [
            "sum A=: \n",
            "\n",
            "72 \n",
            "\n",
            "Einsum A=:\n",
            "\n",
            "72\n"
          ]
        }
      ]
    },
    {
      "cell_type": "code",
      "source": [
        "\n",
        "A=np.array([[2,6,5,2],\n",
        "            [2,-2,2,3],\n",
        "            [1,5,4,0]])\n",
        "print(\"Axis 0 sum A=:\\n\")\n",
        "print(np.sum(A,axis=0),\"\\n\")\n",
        "\n",
        "print(\"Einsum A=:\\n\")\n",
        "print(np.einsum('ij -> j' ,A))\n",
        "print(\"---------------------------\")\n",
        "\n",
        "print(\"Axis 1 sum A=:\\n\")\n",
        "print(np.sum(A,axis=1), \"\\n\")\n",
        "\n",
        "print(\"Einsum A=:\\n\")\n",
        "print(np.einsum('ij -> i' ,A))"
      ],
      "metadata": {
        "colab": {
          "base_uri": "https://localhost:8080/"
        },
        "id": "9f7dts9J8n9-",
        "outputId": "b9cc49f7-9ef3-41d0-bf4a-0ec3bbdf90d3"
      },
      "execution_count": 8,
      "outputs": [
        {
          "output_type": "stream",
          "name": "stdout",
          "text": [
            "Axis 0 sum A=:\n",
            "\n",
            "[ 5  9 11  5] \n",
            "\n",
            "Einsum A=:\n",
            "\n",
            "[ 5  9 11  5]\n",
            "---------------------------\n",
            "Axis 1 sum A=:\n",
            "\n",
            "[15  5 10] \n",
            "\n",
            "Einsum A=:\n",
            "\n",
            "[15  5 10]\n"
          ]
        }
      ]
    },
    {
      "cell_type": "code",
      "source": [
        "A=np.random.randn(2,4,4,2) #bcij\n",
        "B=np.random.randn(2,4,4,1) #bcik"
      ],
      "metadata": {
        "id": "rFx90oLh8sTX"
      },
      "execution_count": 9,
      "outputs": []
    },
    {
      "cell_type": "code",
      "source": [
        "np.einsum(\"bcik,bcij -> bckj\", B,A).shape"
      ],
      "metadata": {
        "colab": {
          "base_uri": "https://localhost:8080/"
        },
        "id": "FzWf8zlQ8uW-",
        "outputId": "88c38230-6038-4d0f-e6c2-f74f67eef8a6"
      },
      "execution_count": 10,
      "outputs": [
        {
          "output_type": "execute_result",
          "data": {
            "text/plain": [
              "(2, 4, 1, 2)"
            ]
          },
          "metadata": {},
          "execution_count": 10
        }
      ]
    },
    {
      "cell_type": "code",
      "source": [
        "np.matmul(np.transpose(B,(0,1,3,2)),A).shape"
      ],
      "metadata": {
        "colab": {
          "base_uri": "https://localhost:8080/"
        },
        "id": "Smar8pzC8vmm",
        "outputId": "4ff1aa76-1484-4f6a-fec0-622f8def6857"
      },
      "execution_count": 11,
      "outputs": [
        {
          "output_type": "execute_result",
          "data": {
            "text/plain": [
              "(2, 4, 1, 2)"
            ]
          },
          "metadata": {},
          "execution_count": 11
        }
      ]
    },
    {
      "cell_type": "code",
      "source": [
        "x_reshape = tf.constant([[3,5,6,6],\n",
        "                         [4,6,-1,2]])\n",
        "\n",
        "print(tf.reshape(x_reshape, [-1]))\n",
        "print(tf.reshape(x_reshape, [8]))"
      ],
      "metadata": {
        "colab": {
          "base_uri": "https://localhost:8080/"
        },
        "id": "Jhe0Ucf08yNW",
        "outputId": "3177fe86-2952-447f-d76e-9fe4295c8057"
      },
      "execution_count": 12,
      "outputs": [
        {
          "output_type": "stream",
          "name": "stdout",
          "text": [
            "tf.Tensor([ 3  5  6  6  4  6 -1  2], shape=(8,), dtype=int32)\n",
            "tf.Tensor([ 3  5  6  6  4  6 -1  2], shape=(8,), dtype=int32)\n"
          ]
        }
      ]
    },
    {
      "cell_type": "code",
      "source": [
        "tf.transpose(x_reshape)"
      ],
      "metadata": {
        "colab": {
          "base_uri": "https://localhost:8080/"
        },
        "id": "NDvhRPs4806W",
        "outputId": "9fdc016a-7b54-4fb1-805a-84fafb3bb206"
      },
      "execution_count": 13,
      "outputs": [
        {
          "output_type": "execute_result",
          "data": {
            "text/plain": [
              "<tf.Tensor: shape=(4, 2), dtype=int32, numpy=\n",
              "array([[ 3,  4],\n",
              "       [ 5,  6],\n",
              "       [ 6, -1],\n",
              "       [ 6,  2]], dtype=int32)>"
            ]
          },
          "metadata": {},
          "execution_count": 13
        }
      ]
    },
    {
      "cell_type": "code",
      "source": [
        "t1= [[1,2,3],\n",
        "     [4,5,6]]\n",
        "\n",
        "t2= [[7,8,9],\n",
        "     [10,11,12]]\n",
        "\n",
        "print(tf.constant(t1).shape)\n",
        "print(tf.constant(t2).shape)\n",
        "\n",
        "tf.concat([t1, t2], axis = 0)"
      ],
      "metadata": {
        "colab": {
          "base_uri": "https://localhost:8080/"
        },
        "id": "7iTCswzs83e9",
        "outputId": "6f032027-be30-4f2e-9b77-37a8ce9466b2"
      },
      "execution_count": 14,
      "outputs": [
        {
          "output_type": "stream",
          "name": "stdout",
          "text": [
            "(2, 3)\n",
            "(2, 3)\n"
          ]
        },
        {
          "output_type": "execute_result",
          "data": {
            "text/plain": [
              "<tf.Tensor: shape=(4, 3), dtype=int32, numpy=\n",
              "array([[ 1,  2,  3],\n",
              "       [ 4,  5,  6],\n",
              "       [ 7,  8,  9],\n",
              "       [10, 11, 12]], dtype=int32)>"
            ]
          },
          "metadata": {},
          "execution_count": 14
        }
      ]
    },
    {
      "cell_type": "code",
      "source": [
        "tf.stack([t1,t2], axis = 0)"
      ],
      "metadata": {
        "colab": {
          "base_uri": "https://localhost:8080/"
        },
        "id": "FKZxVu0o86M3",
        "outputId": "4aedff75-43a8-46d8-e385-ccab2394b556"
      },
      "execution_count": 15,
      "outputs": [
        {
          "output_type": "execute_result",
          "data": {
            "text/plain": [
              "<tf.Tensor: shape=(2, 2, 3), dtype=int32, numpy=\n",
              "array([[[ 1,  2,  3],\n",
              "        [ 4,  5,  6]],\n",
              "\n",
              "       [[ 7,  8,  9],\n",
              "        [10, 11, 12]]], dtype=int32)>"
            ]
          },
          "metadata": {},
          "execution_count": 15
        }
      ]
    },
    {
      "cell_type": "code",
      "source": [
        "tf.concat([tf.expand_dims(t, axis = 0) for t in [t1,t2]], axis = 0)"
      ],
      "metadata": {
        "colab": {
          "base_uri": "https://localhost:8080/"
        },
        "id": "S5GOKQPl88al",
        "outputId": "9463bddd-014f-4c9f-e90e-f699565768cf"
      },
      "execution_count": 16,
      "outputs": [
        {
          "output_type": "execute_result",
          "data": {
            "text/plain": [
              "<tf.Tensor: shape=(2, 2, 3), dtype=int32, numpy=\n",
              "array([[[ 1,  2,  3],\n",
              "        [ 4,  5,  6]],\n",
              "\n",
              "       [[ 7,  8,  9],\n",
              "        [10, 11, 12]]], dtype=int32)>"
            ]
          },
          "metadata": {},
          "execution_count": 16
        }
      ]
    },
    {
      "cell_type": "code",
      "source": [
        "params = tf.constant(['p0', 'p1', 'p2', 'p3', 'p4', 'p5'])\n",
        "print(params.shape)\n",
        "params[1:3+1]"
      ],
      "metadata": {
        "colab": {
          "base_uri": "https://localhost:8080/"
        },
        "id": "1KDRBJpr9Cdk",
        "outputId": "163b9fb1-e137-4e3c-b074-d1b788a6422b"
      },
      "execution_count": 17,
      "outputs": [
        {
          "output_type": "stream",
          "name": "stdout",
          "text": [
            "(6,)\n"
          ]
        },
        {
          "output_type": "execute_result",
          "data": {
            "text/plain": [
              "<tf.Tensor: shape=(3,), dtype=string, numpy=array([b'p1', b'p2', b'p3'], dtype=object)>"
            ]
          },
          "metadata": {},
          "execution_count": 17
        }
      ]
    },
    {
      "cell_type": "code",
      "source": [
        "tf.gather(params, [0,5,3], axis = 0)"
      ],
      "metadata": {
        "colab": {
          "base_uri": "https://localhost:8080/"
        },
        "id": "RkgEZj3I9Emt",
        "outputId": "169330b6-30d5-4071-d0bc-4326699b7dad"
      },
      "execution_count": 18,
      "outputs": [
        {
          "output_type": "execute_result",
          "data": {
            "text/plain": [
              "<tf.Tensor: shape=(3,), dtype=string, numpy=array([b'p0', b'p5', b'p3'], dtype=object)>"
            ]
          },
          "metadata": {},
          "execution_count": 18
        }
      ]
    },
    {
      "cell_type": "code",
      "source": [
        "params = tf.constant([\n",
        "\n",
        "                      [[0, 1.0, 2.0],\n",
        "                      [10.0, 11.0, 12.0],\n",
        "                      [20.0, 21.0, 22.0],\n",
        "                      [30.0, 31.0, 32.0]]\n",
        "\n",
        "                       ])\n",
        "print(params.shape)\n",
        "tf.gather(params, [2,0], axis = 1)"
      ],
      "metadata": {
        "colab": {
          "base_uri": "https://localhost:8080/"
        },
        "id": "Ov5kneJk9GyY",
        "outputId": "0e99030f-7ef8-4988-c6c6-4a755ab823e7"
      },
      "execution_count": 19,
      "outputs": [
        {
          "output_type": "stream",
          "name": "stdout",
          "text": [
            "(1, 4, 3)\n"
          ]
        },
        {
          "output_type": "execute_result",
          "data": {
            "text/plain": [
              "<tf.Tensor: shape=(1, 2, 3), dtype=float32, numpy=\n",
              "array([[[20., 21., 22.],\n",
              "        [ 0.,  1.,  2.]]], dtype=float32)>"
            ]
          },
          "metadata": {},
          "execution_count": 19
        }
      ]
    },
    {
      "cell_type": "code",
      "source": [
        "indices = [[2]]\n",
        "\n",
        "params = [['a', 'b'],\n",
        "          ['c', 'd'],\n",
        "          ['e', 'f']]\n",
        "\n",
        "tf.gather_nd(params, indices)"
      ],
      "metadata": {
        "colab": {
          "base_uri": "https://localhost:8080/"
        },
        "id": "JnUezE7Q9JG4",
        "outputId": "71d2a432-e47e-4785-ac5f-d231bf214894"
      },
      "execution_count": 20,
      "outputs": [
        {
          "output_type": "execute_result",
          "data": {
            "text/plain": [
              "<tf.Tensor: shape=(1, 2), dtype=string, numpy=array([[b'e', b'f']], dtype=object)>"
            ]
          },
          "metadata": {},
          "execution_count": 20
        }
      ]
    },
    {
      "cell_type": "code",
      "source": [
        "indices = [[0,1],\n",
        "           [1,0]],\n",
        "\n",
        "\n",
        "params = [[['a0', 'b0'],\n",
        "           ['c0', 'd0']],\n",
        "\n",
        "           [['a1', 'b1'],\n",
        "            ['c1', 'd1']]]"
      ],
      "metadata": {
        "id": "mYOWgrMZ9LjM"
      },
      "execution_count": 21,
      "outputs": []
    },
    {
      "cell_type": "code",
      "source": [
        "tensor_two_d=tf.constant([[1,2,0],\n",
        "                          [3,5,-1],\n",
        "                          [1,5,6],\n",
        "                          [2,3,8]])\n",
        "\n",
        "print(tensor_two_d.shape)"
      ],
      "metadata": {
        "colab": {
          "base_uri": "https://localhost:8080/"
        },
        "id": "5RO1sdQi9OUN",
        "outputId": "036a06f0-255a-4ecd-c96e-8700d9a5c94b"
      },
      "execution_count": 22,
      "outputs": [
        {
          "output_type": "stream",
          "name": "stdout",
          "text": [
            "(4, 3)\n"
          ]
        }
      ]
    },
    {
      "cell_type": "code",
      "source": [
        "tensor_two_d = [[1,2,0],\n",
        "                [3,],\n",
        "                [1,5,6,5,6],\n",
        "                [2,3]]\n",
        "\n",
        "tensor_ragged = tf.ragged.constant(tensor_two_d)\n",
        "print(tensor_ragged)"
      ],
      "metadata": {
        "colab": {
          "base_uri": "https://localhost:8080/"
        },
        "id": "TmXy1qxJ9Q_j",
        "outputId": "5d70324a-2b45-4f45-b7f6-c2ce04c1b911"
      },
      "execution_count": 23,
      "outputs": [
        {
          "output_type": "stream",
          "name": "stdout",
          "text": [
            "<tf.RaggedTensor [[1, 2, 0], [3], [1, 5, 6, 5, 6], [2, 3]]>\n"
          ]
        }
      ]
    },
    {
      "cell_type": "code",
      "source": [
        "\n",
        "print(tf.RaggedTensor.from_row_lengths(\n",
        "      values=[3,1,4,1,5,9,2,6],\n",
        "      row_lengths=[4,0,3,1,0]))"
      ],
      "metadata": {
        "colab": {
          "base_uri": "https://localhost:8080/"
        },
        "id": "qXwQXTEe9TN3",
        "outputId": "62e1a579-159e-477e-db20-b7f1a2856acc"
      },
      "execution_count": 24,
      "outputs": [
        {
          "output_type": "stream",
          "name": "stdout",
          "text": [
            "<tf.RaggedTensor [[3, 1, 4, 1], [], [5, 9, 2], [6], []]>\n"
          ]
        }
      ]
    },
    {
      "cell_type": "code",
      "source": [
        "tf.gather_nd(params, indices, batch_dims = 0)"
      ],
      "metadata": {
        "colab": {
          "base_uri": "https://localhost:8080/"
        },
        "id": "r9LdWdLW9VRJ",
        "outputId": "9f47af13-b5db-482b-88d9-ab46a6394acb"
      },
      "execution_count": 25,
      "outputs": [
        {
          "output_type": "execute_result",
          "data": {
            "text/plain": [
              "<tf.Tensor: shape=(1, 2, 2), dtype=string, numpy=\n",
              "array([[[b'c0', b'd0'],\n",
              "        [b'a1', b'b1']]], dtype=object)>"
            ]
          },
          "metadata": {},
          "execution_count": 25
        }
      ]
    },
    {
      "cell_type": "code",
      "source": [
        "tensor_sparse = tf.SparseTensor(\n",
        "    indices=[[1,1],[3,4]], values = [11,56], dense_shape = [5,6]\n",
        ")"
      ],
      "metadata": {
        "id": "a4b56Zoo9Xu3"
      },
      "execution_count": 26,
      "outputs": []
    },
    {
      "cell_type": "code",
      "source": [
        "print(tensor_sparse)"
      ],
      "metadata": {
        "colab": {
          "base_uri": "https://localhost:8080/"
        },
        "id": "Yye9vUfS9Zu9",
        "outputId": "078ab473-3f54-46dd-d763-67ee62da0b0b"
      },
      "execution_count": 27,
      "outputs": [
        {
          "output_type": "stream",
          "name": "stdout",
          "text": [
            "SparseTensor(indices=tf.Tensor(\n",
            "[[1 1]\n",
            " [3 4]], shape=(2, 2), dtype=int64), values=tf.Tensor([11 56], shape=(2,), dtype=int32), dense_shape=tf.Tensor([5 6], shape=(2,), dtype=int64))\n"
          ]
        }
      ]
    },
    {
      "cell_type": "code",
      "source": [
        "tf.sparse.to_dense(tensor_sparse)"
      ],
      "metadata": {
        "colab": {
          "base_uri": "https://localhost:8080/"
        },
        "id": "uJ1aTxbu9b1D",
        "outputId": "d79654f3-a22d-43de-b7a3-eb10afb00d94"
      },
      "execution_count": 28,
      "outputs": [
        {
          "output_type": "execute_result",
          "data": {
            "text/plain": [
              "<tf.Tensor: shape=(5, 6), dtype=int32, numpy=\n",
              "array([[ 0,  0,  0,  0,  0,  0],\n",
              "       [ 0, 11,  0,  0,  0,  0],\n",
              "       [ 0,  0,  0,  0,  0,  0],\n",
              "       [ 0,  0,  0,  0, 56,  0],\n",
              "       [ 0,  0,  0,  0,  0,  0]], dtype=int32)>"
            ]
          },
          "metadata": {},
          "execution_count": 28
        }
      ]
    },
    {
      "cell_type": "code",
      "source": [
        "tensor_string = tf.constant(['hello', 'i am', 'a string'])\n",
        "print(tensor_string)"
      ],
      "metadata": {
        "colab": {
          "base_uri": "https://localhost:8080/"
        },
        "id": "0XD1TiYu9eAn",
        "outputId": "8c615d1b-a7a0-410c-d818-9152bb71f2aa"
      },
      "execution_count": 29,
      "outputs": [
        {
          "output_type": "stream",
          "name": "stdout",
          "text": [
            "tf.Tensor([b'hello' b'i am' b'a string'], shape=(3,), dtype=string)\n"
          ]
        }
      ]
    },
    {
      "cell_type": "code",
      "source": [
        "tf.strings.join(tensor_string, separator =\"\")"
      ],
      "metadata": {
        "colab": {
          "base_uri": "https://localhost:8080/"
        },
        "id": "A-sz7bmm9fE2",
        "outputId": "63b1b710-9743-404c-bf93-23f52e4a78c3"
      },
      "execution_count": 30,
      "outputs": [
        {
          "output_type": "execute_result",
          "data": {
            "text/plain": [
              "<tf.Tensor: shape=(), dtype=string, numpy=b'helloi ama string'>"
            ]
          },
          "metadata": {},
          "execution_count": 30
        }
      ]
    },
    {
      "cell_type": "code",
      "source": [
        "\n",
        "tf.strings.join(tensor_string, separator =' ')"
      ],
      "metadata": {
        "colab": {
          "base_uri": "https://localhost:8080/"
        },
        "id": "PFh0nxNR9jel",
        "outputId": "4462b053-6524-4f90-cba2-34f32e8e61ca"
      },
      "execution_count": 31,
      "outputs": [
        {
          "output_type": "execute_result",
          "data": {
            "text/plain": [
              "<tf.Tensor: shape=(), dtype=string, numpy=b'hello i am a string'>"
            ]
          },
          "metadata": {},
          "execution_count": 31
        }
      ]
    },
    {
      "cell_type": "code",
      "source": [
        "tf.strings.join(tensor_string, separator =\"**\")"
      ],
      "metadata": {
        "colab": {
          "base_uri": "https://localhost:8080/"
        },
        "id": "Be4yfofk9lwd",
        "outputId": "cfec5c7c-e8dc-4690-b3e7-272a431fd72f"
      },
      "execution_count": 32,
      "outputs": [
        {
          "output_type": "execute_result",
          "data": {
            "text/plain": [
              "<tf.Tensor: shape=(), dtype=string, numpy=b'hello**i am**a string'>"
            ]
          },
          "metadata": {},
          "execution_count": 32
        }
      ]
    },
    {
      "cell_type": "code",
      "source": [
        "x = tf.constant([1,2])"
      ],
      "metadata": {
        "id": "u0Cxi5al9mvH"
      },
      "execution_count": 33,
      "outputs": []
    },
    {
      "cell_type": "code",
      "source": [
        "\n",
        "x_var = tf.Variable(x)\n",
        "print(x_var)"
      ],
      "metadata": {
        "colab": {
          "base_uri": "https://localhost:8080/"
        },
        "id": "zgGlNOY79pBV",
        "outputId": "1eb20dc6-c36b-466b-bd7b-6780a1cc2a60"
      },
      "execution_count": 34,
      "outputs": [
        {
          "output_type": "stream",
          "name": "stdout",
          "text": [
            "<tf.Variable 'Variable:0' shape=(2,) dtype=int32, numpy=array([1, 2], dtype=int32)>\n"
          ]
        }
      ]
    },
    {
      "cell_type": "code",
      "source": [
        "x_var = tf.Variable(x, name = 'var1')\n",
        "print(x_var)\n"
      ],
      "metadata": {
        "colab": {
          "base_uri": "https://localhost:8080/"
        },
        "id": "28t0uB_N9vXj",
        "outputId": "0891e3ca-45ca-4b14-a24e-7d46405c8cc7"
      },
      "execution_count": 36,
      "outputs": [
        {
          "output_type": "stream",
          "name": "stdout",
          "text": [
            "<tf.Variable 'var1:0' shape=(2,) dtype=int32, numpy=array([1, 2], dtype=int32)>\n"
          ]
        }
      ]
    },
    {
      "cell_type": "code",
      "source": [
        "x_var.assign_sub([3,4])"
      ],
      "metadata": {
        "colab": {
          "base_uri": "https://localhost:8080/"
        },
        "id": "fljbyA5z9yPV",
        "outputId": "357c763e-484b-4e16-e09c-d099b99165b5"
      },
      "execution_count": 37,
      "outputs": [
        {
          "output_type": "execute_result",
          "data": {
            "text/plain": [
              "<tf.Variable 'UnreadVariable' shape=(2,) dtype=int32, numpy=array([-2, -2], dtype=int32)>"
            ]
          },
          "metadata": {},
          "execution_count": 37
        }
      ]
    },
    {
      "cell_type": "code",
      "source": [
        "x_var.assign_add([5,8])"
      ],
      "metadata": {
        "colab": {
          "base_uri": "https://localhost:8080/"
        },
        "id": "BIMXwZEt916P",
        "outputId": "84699f2e-7b60-43c4-acbc-4fc77414e35d"
      },
      "execution_count": 38,
      "outputs": [
        {
          "output_type": "execute_result",
          "data": {
            "text/plain": [
              "<tf.Variable 'UnreadVariable' shape=(2,) dtype=int32, numpy=array([3, 6], dtype=int32)>"
            ]
          },
          "metadata": {},
          "execution_count": 38
        }
      ]
    },
    {
      "cell_type": "code",
      "source": [
        "with tf.device('GPU:0'):\n",
        "  x_var = tf.Variable(0.2)\n",
        "\n",
        "print(x_var)"
      ],
      "metadata": {
        "colab": {
          "base_uri": "https://localhost:8080/"
        },
        "id": "uZcD9rn994nt",
        "outputId": "ae6e28b4-05b5-4b03-d0d0-b2d7b5d205ae"
      },
      "execution_count": 39,
      "outputs": [
        {
          "output_type": "stream",
          "name": "stdout",
          "text": [
            "<tf.Variable 'Variable:0' shape=() dtype=float32, numpy=0.20000000298023224>\n"
          ]
        }
      ]
    },
    {
      "cell_type": "code",
      "source": [
        "print(x_var.device)"
      ],
      "metadata": {
        "colab": {
          "base_uri": "https://localhost:8080/"
        },
        "id": "FFMujEo995mN",
        "outputId": "1c14aab4-3e1b-4169-f6d3-942c7eec95c5"
      },
      "execution_count": 40,
      "outputs": [
        {
          "output_type": "stream",
          "name": "stdout",
          "text": [
            "/job:localhost/replica:0/task:0/device:CPU:0\n"
          ]
        }
      ]
    },
    {
      "cell_type": "code",
      "source": [
        "with tf.device('GPU:0'):\n",
        "  x_var = tf.Variable(0.2)\n",
        "\n",
        "with tf.device('CPU:0'):\n",
        "  x_tensor = tf.constant(0.2)\n",
        "\n",
        "print(x_var.device)\n",
        "\n",
        "print(x_tensor.device)\n"
      ],
      "metadata": {
        "colab": {
          "base_uri": "https://localhost:8080/"
        },
        "id": "qZG-poOk98uG",
        "outputId": "16f21242-54ce-4bec-a492-a888f0cf52da"
      },
      "execution_count": 41,
      "outputs": [
        {
          "output_type": "stream",
          "name": "stdout",
          "text": [
            "/job:localhost/replica:0/task:0/device:CPU:0\n",
            "/job:localhost/replica:0/task:0/device:CPU:0\n"
          ]
        }
      ]
    },
    {
      "cell_type": "code",
      "source": [
        "\n",
        "with tf.device('CPU:0'):\n",
        "  x_1 = tf.constant([1,3,4])\n",
        "  x_2 = tf.constant([1])\n",
        "\n",
        "with tf.device('GPU:0'):\n",
        "  x_3 = x_1 + x_2\n",
        "\n",
        "print(x_1, x_1.device)\n",
        "print(x_2, x_2.device)\n",
        "print(x_3, x_3.device)"
      ],
      "metadata": {
        "colab": {
          "base_uri": "https://localhost:8080/"
        },
        "id": "dDVKYRYv9_ON",
        "outputId": "75aeca0c-aed7-4967-efd6-3e7dc7c75968"
      },
      "execution_count": 42,
      "outputs": [
        {
          "output_type": "stream",
          "name": "stdout",
          "text": [
            "tf.Tensor([1 3 4], shape=(3,), dtype=int32) /job:localhost/replica:0/task:0/device:CPU:0\n",
            "tf.Tensor([1], shape=(1,), dtype=int32) /job:localhost/replica:0/task:0/device:CPU:0\n",
            "tf.Tensor([2 4 5], shape=(3,), dtype=int32) /job:localhost/replica:0/task:0/device:CPU:0\n"
          ]
        }
      ]
    }
  ]
}