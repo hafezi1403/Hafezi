{
  "nbformat": 4,
  "nbformat_minor": 0,
  "metadata": {
    "colab": {
      "provenance": [],
      "authorship_tag": "ABX9TyM5/y9fZPN9vVIGcndTjTYv",
      "include_colab_link": true
    },
    "kernelspec": {
      "name": "python3",
      "display_name": "Python 3"
    },
    "language_info": {
      "name": "python"
    }
  },
  "cells": [
    {
      "cell_type": "markdown",
      "metadata": {
        "id": "view-in-github",
        "colab_type": "text"
      },
      "source": [
        "<a href=\"https://colab.research.google.com/github/hafezi1403/Hafezi/blob/main/Hafezi_1_30H_DL.ipynb\" target=\"_parent\"><img src=\"https://colab.research.google.com/assets/colab-badge.svg\" alt=\"Open In Colab\"/></a>"
      ]
    },
    {
      "cell_type": "code",
      "execution_count": 1,
      "metadata": {
        "id": "oW_K_80McZK9"
      },
      "outputs": [],
      "source": [
        "import tensorflow as tf\n",
        "import numpy as np"
      ]
    },
    {
      "cell_type": "code",
      "source": [
        "random_tensor = tf.random .uniform(\n",
        "[5, ],\n",
        "minval=0,\n",
        "maxval=8,\n",
        "dtype=tf.dtypes.float32,\n",
        "seed=None,\n",
        "name=None,\n",
        ")\n",
        "print(random_tensor)\n"
      ],
      "metadata": {
        "colab": {
          "base_uri": "https://localhost:8080/"
        },
        "id": "6xoSRr0iclcm",
        "outputId": "8129262e-6007-46c3-9ad0-bd8aa937b874"
      },
      "execution_count": 2,
      "outputs": [
        {
          "output_type": "stream",
          "name": "stdout",
          "text": [
            "tf.Tensor([1.4593601 7.0348263 7.335023  2.1823597 5.9457874], shape=(5,), dtype=float32)\n"
          ]
        }
      ]
    },
    {
      "cell_type": "code",
      "source": [
        "tf.random.set_seed(5)\n",
        "print (tf.random.uniform(shape=[3,],maxval=5,dtype=tf.int32,seed=10))\n",
        "print (tf.random.uniform(shape=[3,],maxval=5,dtype=tf.int32,seed=10))\n",
        "print (tf.random.uniform(shape=[3,],maxval=5,dtype=tf.int32,seed=10))\n",
        "print (tf.random.uniform(shape=[3,],maxval=5,dtype=tf.int32,seed=10))"
      ],
      "metadata": {
        "id": "jivLW_NJcqCl",
        "outputId": "710a6678-f048-44e7-d68b-506bb047da77",
        "colab": {
          "base_uri": "https://localhost:8080/"
        }
      },
      "execution_count": 3,
      "outputs": [
        {
          "output_type": "stream",
          "name": "stdout",
          "text": [
            "tf.Tensor([4 3 1], shape=(3,), dtype=int32)\n",
            "tf.Tensor([4 3 2], shape=(3,), dtype=int32)\n",
            "tf.Tensor([1 1 1], shape=(3,), dtype=int32)\n",
            "tf.Tensor([1 3 3], shape=(3,), dtype=int32)\n"
          ]
        }
      ]
    },
    {
      "cell_type": "code",
      "source": [
        "tensor_indexed = tf.constant([3,6,2,4,6,66,7])\n",
        "print (tensor_indexed)\n",
        "print (tensor_indexed[0:4])\n",
        "print (tensor_indexed[3:-3])"
      ],
      "metadata": {
        "id": "TtaVzC8rct8m",
        "outputId": "e5a43c4c-16fc-4b83-d597-2e0d60cc9f6d",
        "colab": {
          "base_uri": "https://localhost:8080/"
        }
      },
      "execution_count": 4,
      "outputs": [
        {
          "output_type": "stream",
          "name": "stdout",
          "text": [
            "tf.Tensor([ 3  6  2  4  6 66  7], shape=(7,), dtype=int32)\n",
            "tf.Tensor([3 6 2 4], shape=(4,), dtype=int32)\n",
            "tf.Tensor([4], shape=(1,), dtype=int32)\n"
          ]
        }
      ]
    },
    {
      "cell_type": "code",
      "source": [
        "tensor_two_d=tf.constant([\n",
        "    [1,2,0],\n",
        "    [3,5,-1],\n",
        "    [1,5,6],\n",
        "    [2,3,8]\n",
        "    ])\n",
        "print(tensor_two_d[0:3,0:2])"
      ],
      "metadata": {
        "id": "i6X7HHIwczH2",
        "outputId": "fc2f08de-3745-4e13-e65c-164b2f6d318d",
        "colab": {
          "base_uri": "https://localhost:8080/"
        }
      },
      "execution_count": 5,
      "outputs": [
        {
          "output_type": "stream",
          "name": "stdout",
          "text": [
            "tf.Tensor(\n",
            "[[1 2]\n",
            " [3 5]\n",
            " [1 5]], shape=(3, 2), dtype=int32)\n"
          ]
        }
      ]
    },
    {
      "cell_type": "code",
      "source": [
        "\n",
        "tensor_three_d=tf.constant([\n",
        "    [[2,20,3],\n",
        "     [3,4,5]],\n",
        "    [[4,78,6],\n",
        "     [5,46,7]],\n",
        "    [[6,103,8],\n",
        "    [7,8,999]],\n",
        "])\n",
        "print(tensor_three_d[0,0,:])"
      ],
      "metadata": {
        "id": "qHt-5UjMc3B5",
        "outputId": "a0ee6060-e22b-4f14-966b-69465d453a46",
        "colab": {
          "base_uri": "https://localhost:8080/"
        }
      },
      "execution_count": 6,
      "outputs": [
        {
          "output_type": "stream",
          "name": "stdout",
          "text": [
            "tf.Tensor([ 2 20  3], shape=(3,), dtype=int32)\n"
          ]
        }
      ]
    },
    {
      "cell_type": "code",
      "source": [
        "x_abs=tf.constant ([-2.25,3.25])\n",
        "tf.abs(x_abs)"
      ],
      "metadata": {
        "id": "7UokC7PFc5eW",
        "outputId": "992c30ba-8f97-4ab4-dcc5-f0ff8a5ad778",
        "colab": {
          "base_uri": "https://localhost:8080/"
        }
      },
      "execution_count": 7,
      "outputs": [
        {
          "output_type": "execute_result",
          "data": {
            "text/plain": [
              "<tf.Tensor: shape=(2,), dtype=float32, numpy=array([2.25, 3.25], dtype=float32)>"
            ]
          },
          "metadata": {},
          "execution_count": 7
        }
      ]
    },
    {
      "cell_type": "code",
      "source": [
        "tf.abs(tf.constant(-0.2))"
      ],
      "metadata": {
        "id": "Efq37gXCc9MU",
        "outputId": "32727277-6fd4-4e9c-bab9-9e69d695e965",
        "colab": {
          "base_uri": "https://localhost:8080/"
        }
      },
      "execution_count": 8,
      "outputs": [
        {
          "output_type": "execute_result",
          "data": {
            "text/plain": [
              "<tf.Tensor: shape=(), dtype=float32, numpy=0.20000000298023224>"
            ]
          },
          "metadata": {},
          "execution_count": 8
        }
      ]
    },
    {
      "cell_type": "code",
      "source": [
        "x_abs_complex=tf.constant([-2.25+4.75j])\n",
        "tf.abs(x_abs_complex)"
      ],
      "metadata": {
        "id": "fv_CCfWcc_9-"
      },
      "execution_count": null,
      "outputs": []
    },
    {
      "cell_type": "code",
      "source": [
        "\n",
        "tf.sqrt ((-2.25)**2+4.75**2)"
      ],
      "metadata": {
        "id": "FKO4Tj3udCTF",
        "outputId": "3c993c4a-94bf-49b7-8792-d721cba46a8b",
        "colab": {
          "base_uri": "https://localhost:8080/"
        }
      },
      "execution_count": 9,
      "outputs": [
        {
          "output_type": "execute_result",
          "data": {
            "text/plain": [
              "<tf.Tensor: shape=(), dtype=float32, numpy=5.255949020385742>"
            ]
          },
          "metadata": {},
          "execution_count": 9
        }
      ]
    },
    {
      "cell_type": "code",
      "source": [
        "x_1 = tf.constant ([5,3,6,6,4,6],dtype=tf.int32)\n",
        "x_2 = tf.constant ([7,6,2,6,7,11],dtype=tf.int32)\n",
        "print (tf.divide (x_1 , x_2))\n"
      ],
      "metadata": {
        "id": "m-q-E34QdMtz",
        "outputId": "1688d4fa-089f-4877-b7fc-8689630acc5c",
        "colab": {
          "base_uri": "https://localhost:8080/"
        }
      },
      "execution_count": 10,
      "outputs": [
        {
          "output_type": "stream",
          "name": "stdout",
          "text": [
            "tf.Tensor([0.71428571 0.5        3.         1.         0.57142857 0.54545455], shape=(6,), dtype=float64)\n"
          ]
        }
      ]
    },
    {
      "cell_type": "code",
      "source": [
        "x_1 = tf.constant ([[5,3,6,6,4,6],], dtype=tf.float32)\n",
        "x_2 = tf.constant ([[7],[5],[3]], dtype = tf.float32)\n",
        "\n",
        "print(x_1.shape)\n",
        "print(x_2.shape)\n",
        "print(tf.math.multiply(x_1,x_2))"
      ],
      "metadata": {
        "id": "dJGu6CPHdqnR",
        "outputId": "181b7fbd-7608-4dd5-dc9f-c5cfb4b1bbaf",
        "colab": {
          "base_uri": "https://localhost:8080/"
        }
      },
      "execution_count": 11,
      "outputs": [
        {
          "output_type": "stream",
          "name": "stdout",
          "text": [
            "(1, 6)\n",
            "(3, 1)\n",
            "tf.Tensor(\n",
            "[[35. 21. 42. 42. 28. 42.]\n",
            " [25. 15. 30. 30. 20. 30.]\n",
            " [15.  9. 18. 18. 12. 18.]], shape=(3, 6), dtype=float32)\n"
          ]
        }
      ]
    },
    {
      "cell_type": "code",
      "source": [
        "x_argmax=tf.constant([[2,20,30,3,6],\n",
        "                      [3,11,16,1,8],\n",
        "                      [14,45,23,5,27]])\n",
        "\n",
        "print (x_argmax.shape)\n",
        "print (tf.math.argmax(x_argmax,0))"
      ],
      "metadata": {
        "id": "AtN4br8Tdu1C",
        "outputId": "a62bf926-f668-4683-9988-107b71f1641f",
        "colab": {
          "base_uri": "https://localhost:8080/"
        }
      },
      "execution_count": 12,
      "outputs": [
        {
          "output_type": "stream",
          "name": "stdout",
          "text": [
            "(3, 5)\n",
            "tf.Tensor([2 2 0 2 2], shape=(5,), dtype=int64)\n"
          ]
        }
      ]
    },
    {
      "cell_type": "code",
      "source": [
        "x_argmax=tf.constant ([200,120,130,3,6])\n",
        "print (tf.math.argmax(x_argmax))"
      ],
      "metadata": {
        "id": "x6VfDehUdw76",
        "outputId": "563934f7-2f31-4afd-8cb7-4a9b04a9c825",
        "colab": {
          "base_uri": "https://localhost:8080/"
        }
      },
      "execution_count": 13,
      "outputs": [
        {
          "output_type": "stream",
          "name": "stdout",
          "text": [
            "tf.Tensor(0, shape=(), dtype=int64)\n"
          ]
        }
      ]
    },
    {
      "cell_type": "code",
      "source": [
        "x_argmax=tf.constant([200,120,130,300,6])\n",
        "print(tf.math.argmax(x_argmax))"
      ],
      "metadata": {
        "id": "c4ddPabtdzTm",
        "outputId": "c7a591ff-12e5-4a9a-d927-2a35246f0bc2",
        "colab": {
          "base_uri": "https://localhost:8080/"
        }
      },
      "execution_count": 14,
      "outputs": [
        {
          "output_type": "stream",
          "name": "stdout",
          "text": [
            "tf.Tensor(3, shape=(), dtype=int64)\n"
          ]
        }
      ]
    },
    {
      "cell_type": "code",
      "source": [
        "x=tf.constant([[2,2],[3,3]])\n",
        "y=tf.constant([[3,0],[1,4]])\n",
        "tf.pow(x,y)"
      ],
      "metadata": {
        "id": "nQqBra37d1jf",
        "outputId": "44759bb6-8ad9-4d2b-e400-48609f604c82",
        "colab": {
          "base_uri": "https://localhost:8080/"
        }
      },
      "execution_count": 15,
      "outputs": [
        {
          "output_type": "execute_result",
          "data": {
            "text/plain": [
              "<tf.Tensor: shape=(2, 2), dtype=int32, numpy=\n",
              "array([[ 8,  1],\n",
              "       [ 3, 81]], dtype=int32)>"
            ]
          },
          "metadata": {},
          "execution_count": 15
        }
      ]
    },
    {
      "cell_type": "code",
      "source": [
        "tf.pow(tf.constant(2),tf.constant(3))"
      ],
      "metadata": {
        "id": "bpQtgoutd6Nd",
        "outputId": "f45dd5b1-86d9-4f9f-a251-598910738699",
        "colab": {
          "base_uri": "https://localhost:8080/"
        }
      },
      "execution_count": 16,
      "outputs": [
        {
          "output_type": "execute_result",
          "data": {
            "text/plain": [
              "<tf.Tensor: shape=(), dtype=int32, numpy=8>"
            ]
          },
          "metadata": {},
          "execution_count": 16
        }
      ]
    },
    {
      "cell_type": "code",
      "source": [
        "\n",
        "tensor_two_d=tf.constant([\n",
        "    [1,-2,0],\n",
        "    [3,5,100],\n",
        "    [1,5,6],\n",
        "    [2,3,8]\n",
        "    ])\n",
        "print(tensor_two_d.shape)\n",
        "print(tf.math.reduce_sum(tensor_two_d,axis=0,keepdims=False,name=None))"
      ],
      "metadata": {
        "id": "mvN-IcKcd9HB",
        "outputId": "2bc59c43-2f03-40d9-ba16-c281494c0788",
        "colab": {
          "base_uri": "https://localhost:8080/"
        }
      },
      "execution_count": 17,
      "outputs": [
        {
          "output_type": "stream",
          "name": "stdout",
          "text": [
            "(4, 3)\n",
            "tf.Tensor([  7  11 114], shape=(3,), dtype=int32)\n"
          ]
        }
      ]
    },
    {
      "cell_type": "code",
      "source": [
        "tf.math.top_k(tensor_two_d,k=1)"
      ],
      "metadata": {
        "id": "auCA_ITDd_X6",
        "outputId": "6ef1714a-0080-4455-f055-dfc9a1a2ce53",
        "colab": {
          "base_uri": "https://localhost:8080/"
        }
      },
      "execution_count": 18,
      "outputs": [
        {
          "output_type": "execute_result",
          "data": {
            "text/plain": [
              "TopKV2(values=<tf.Tensor: shape=(4, 1), dtype=int32, numpy=\n",
              "array([[  1],\n",
              "       [100],\n",
              "       [  6],\n",
              "       [  8]], dtype=int32)>, indices=<tf.Tensor: shape=(4, 1), dtype=int32, numpy=\n",
              "array([[0],\n",
              "       [2],\n",
              "       [2],\n",
              "       [2]], dtype=int32)>)"
            ]
          },
          "metadata": {},
          "execution_count": 18
        }
      ]
    },
    {
      "cell_type": "code",
      "source": [
        "x_1 = tf.constant ([[1,2,0],\n",
        "                    [3,5,-1]])\n",
        "x_2 = tf.constant ([[1,2,0,2],\n",
        "                    [3,5,-1,2],\n",
        "                    [4,5,6,0]])\n",
        "print(x_1.shape,x_2.shape)\n",
        "tf.linalg.matmul(\n",
        "x_1,x_2,transpose_a=False,transpose_b=False, adjoint_a=False, adjoint_b=False,\n",
        "a_is_sparse=False, b_is_sparse=False, output_type=None\n",
        ")"
      ],
      "metadata": {
        "id": "Sgtsvc4JeBrF",
        "outputId": "c7d94d31-b083-4b42-b2a9-9310ec1729ef",
        "colab": {
          "base_uri": "https://localhost:8080/"
        }
      },
      "execution_count": 19,
      "outputs": [
        {
          "output_type": "stream",
          "name": "stdout",
          "text": [
            "(2, 3) (3, 4)\n"
          ]
        },
        {
          "output_type": "execute_result",
          "data": {
            "text/plain": [
              "<tf.Tensor: shape=(2, 4), dtype=int32, numpy=\n",
              "array([[  7,  12,  -2,   6],\n",
              "       [ 14,  26, -11,  16]], dtype=int32)>"
            ]
          },
          "metadata": {},
          "execution_count": 19
        }
      ]
    },
    {
      "cell_type": "code",
      "source": [
        "print(x_1@x_2)"
      ],
      "metadata": {
        "id": "aXDdNNjFeEE1",
        "outputId": "ad8d06b5-4afc-4583-ab69-99603782fa5d",
        "colab": {
          "base_uri": "https://localhost:8080/"
        }
      },
      "execution_count": 20,
      "outputs": [
        {
          "output_type": "stream",
          "name": "stdout",
          "text": [
            "tf.Tensor(\n",
            "[[  7  12  -2   6]\n",
            " [ 14  26 -11  16]], shape=(2, 4), dtype=int32)\n"
          ]
        }
      ]
    },
    {
      "cell_type": "code",
      "source": [
        "\n",
        "x_1= tf.constant ([[1,2,0]])\n",
        "\n",
        "x_2= tf.constant ([[1,2],\n",
        "                  [3,5],\n",
        "                  [4,5]])\n"
      ],
      "metadata": {
        "id": "TUNmadY2eGmi"
      },
      "execution_count": 21,
      "outputs": []
    },
    {
      "cell_type": "code",
      "source": [
        "\n",
        "tf.transpose (x_1)"
      ],
      "metadata": {
        "id": "AhA25I8GeJ1Q",
        "outputId": "71a10d7d-0af9-40a5-affe-a0aa0c20c9ed",
        "colab": {
          "base_uri": "https://localhost:8080/"
        }
      },
      "execution_count": 22,
      "outputs": [
        {
          "output_type": "execute_result",
          "data": {
            "text/plain": [
              "<tf.Tensor: shape=(3, 1), dtype=int32, numpy=\n",
              "array([[1],\n",
              "       [2],\n",
              "       [0]], dtype=int32)>"
            ]
          },
          "metadata": {},
          "execution_count": 22
        }
      ]
    },
    {
      "cell_type": "code",
      "source": [
        "\n",
        "print(x_2)"
      ],
      "metadata": {
        "id": "eTc8ZU_jeMeQ",
        "outputId": "7d4963a7-f1aa-4f4f-cf1c-115bb4472468",
        "colab": {
          "base_uri": "https://localhost:8080/"
        }
      },
      "execution_count": 23,
      "outputs": [
        {
          "output_type": "stream",
          "name": "stdout",
          "text": [
            "tf.Tensor(\n",
            "[[1 2]\n",
            " [3 5]\n",
            " [4 5]], shape=(3, 2), dtype=int32)\n"
          ]
        }
      ]
    },
    {
      "cell_type": "code",
      "source": [
        "x_1= tf.constant ([[1,2,0]])\n",
        "\n",
        "x_2= tf.constant ([[1,2],\n",
        "                  [3,5],\n",
        "                  [4,5]])\n",
        "\n",
        "x_3=tf.constant ([[1,2,0,2],\n",
        "                 [3,5,-1,2]])\n",
        "\n",
        "print(x_1.shape, x_2.shape, x_3.shape, tf.transpose(x_2).shape)\n",
        "#x_3.T=4.2\n",
        "#x_2.T=3.2"
      ],
      "metadata": {
        "id": "U1_CE23heSKw",
        "outputId": "606bad4c-dbac-41a1-afed-457b63ed11fa",
        "colab": {
          "base_uri": "https://localhost:8080/"
        }
      },
      "execution_count": 24,
      "outputs": [
        {
          "output_type": "stream",
          "name": "stdout",
          "text": [
            "(1, 3) (3, 2) (2, 4) (2, 3)\n"
          ]
        }
      ]
    },
    {
      "cell_type": "code",
      "source": [
        "print(tf.transpose(x_3)@tf.transpose(x_2))\n"
      ],
      "metadata": {
        "id": "6A10ZX2ieU2T",
        "outputId": "8d5678c9-1a3b-4cb6-8cad-31ad7311cef6",
        "colab": {
          "base_uri": "https://localhost:8080/"
        }
      },
      "execution_count": 25,
      "outputs": [
        {
          "output_type": "stream",
          "name": "stdout",
          "text": [
            "tf.Tensor(\n",
            "[[ 7 18 19]\n",
            " [12 31 33]\n",
            " [-2 -5 -5]\n",
            " [ 6 16 18]], shape=(4, 3), dtype=int32)\n"
          ]
        }
      ]
    },
    {
      "cell_type": "code",
      "source": [
        "tf.linalg.matmul(\n",
        "x_3, x_2, transpose_a=True, transpose_b=True, adjoint_a=False, adjoint_b=False,\n",
        "a_is_sparse=False, b_is_sparse=False, output_type=None, name=None\n",
        ")"
      ],
      "metadata": {
        "id": "lYmFS-XreYkC",
        "outputId": "d047050a-2539-4b35-e9dd-4fab8482ed1a",
        "colab": {
          "base_uri": "https://localhost:8080/"
        }
      },
      "execution_count": 26,
      "outputs": [
        {
          "output_type": "execute_result",
          "data": {
            "text/plain": [
              "<tf.Tensor: shape=(4, 3), dtype=int32, numpy=\n",
              "array([[ 7, 18, 19],\n",
              "       [12, 31, 33],\n",
              "       [-2, -5, -5],\n",
              "       [ 6, 16, 18]], dtype=int32)>"
            ]
          },
          "metadata": {},
          "execution_count": 26
        }
      ]
    },
    {
      "cell_type": "code",
      "source": [
        "x_1 = tf.constant ([[1,2,0],\n",
        "                    [3,5,-1]])\n",
        "\n",
        "\n",
        "x_2 = tf.constant([[[5,1,4],\n",
        "                    [34,15,1]],\n",
        "\n",
        "                    [[1,2,2],\n",
        "                     [5,3,2]],\n",
        "\n",
        "                      [[2,2,3],\n",
        "                       [1,1,1]]])\n",
        "\n",
        "print(x_1)\n",
        "print(x_2)"
      ],
      "metadata": {
        "id": "G5oJ-hh3ebAH",
        "outputId": "80ce38a5-3d4f-4567-d46f-3ac049eb8bfe",
        "colab": {
          "base_uri": "https://localhost:8080/"
        }
      },
      "execution_count": 27,
      "outputs": [
        {
          "output_type": "stream",
          "name": "stdout",
          "text": [
            "tf.Tensor(\n",
            "[[ 1  2  0]\n",
            " [ 3  5 -1]], shape=(2, 3), dtype=int32)\n",
            "tf.Tensor(\n",
            "[[[ 5  1  4]\n",
            "  [34 15  1]]\n",
            "\n",
            " [[ 1  2  2]\n",
            "  [ 5  3  2]]\n",
            "\n",
            " [[ 2  2  3]\n",
            "  [ 1  1  1]]], shape=(3, 2, 3), dtype=int32)\n"
          ]
        }
      ]
    },
    {
      "cell_type": "code",
      "source": [
        "\n",
        "x_1 = tf.constant([[10,0],\n",
        "                    [1,2]])\n",
        "\n",
        "\n",
        "x_2 = tf.constant([[1,2,2],\n",
        "                    [5,3,2]])\n",
        "\n",
        "print(tf.linalg.matmul(x_1,x_2))"
      ],
      "metadata": {
        "id": "4RMe32KZedkg",
        "outputId": "d2db5f71-6cb8-4473-c7b8-3cda7477a3d6",
        "colab": {
          "base_uri": "https://localhost:8080/"
        }
      },
      "execution_count": 28,
      "outputs": [
        {
          "output_type": "stream",
          "name": "stdout",
          "text": [
            "tf.Tensor(\n",
            "[[10 20 20]\n",
            " [11  8  6]], shape=(2, 3), dtype=int32)\n"
          ]
        }
      ]
    },
    {
      "cell_type": "code",
      "source": [
        "tensor_two_d=tf.constant([[1,-2,0],\n",
        "                          [3,5,100],\n",
        "                          [1,5,6],\n",
        "                          [2,3,8]],dtype=tf.float16)\n",
        "\n",
        "tensor_out_d=tf.constant([[1,0,0],\n",
        "                          [0,5,0],\n",
        "                          [0,0,6],\n",
        "                          [0,0,0]],dtype=tf.float16)\n",
        "###(m-n <= lower) and (n-m <= upper)\n",
        "# m--rows , n---columns\n",
        "\n",
        "tf.linalg.band_part(tensor_two_d,-1,0)"
      ],
      "metadata": {
        "id": "T8iRT1v5ehnV",
        "outputId": "53fed09d-18d8-4707-e4ff-b22fa44e55ba",
        "colab": {
          "base_uri": "https://localhost:8080/"
        }
      },
      "execution_count": 29,
      "outputs": [
        {
          "output_type": "execute_result",
          "data": {
            "text/plain": [
              "<tf.Tensor: shape=(4, 3), dtype=float16, numpy=\n",
              "array([[1., 0., 0.],\n",
              "       [3., 5., 0.],\n",
              "       [1., 5., 6.],\n",
              "       [2., 3., 8.]], dtype=float16)>"
            ]
          },
          "metadata": {},
          "execution_count": 29
        }
      ]
    },
    {
      "cell_type": "code",
      "source": [
        "\n",
        "tensor_two_d_m_n=tf.constant([[1,-1,-2],\n",
        "                              [1,0,-1],\n",
        "                              [2,1,0],\n",
        "                              [3,2,1]],dtype=tf.float16)\n",
        "\n",
        "\n",
        "\n",
        "tensor_two_d_n_m=tf.constant([[0,1,2],\n",
        "                              [-1,0,1],\n",
        "                              [-2,-1,0],\n",
        "                              [-3,-2,-1]],dtype=tf.float16)"
      ],
      "metadata": {
        "id": "4gwCQ_XHekWt"
      },
      "execution_count": 30,
      "outputs": []
    },
    {
      "cell_type": "code",
      "source": [
        "tensor_two_d=tf.constant([[1,-2,0],\n",
        "                          [3,5,100],\n",
        "                          [1,5,6]],dtype=tf.float32)\n",
        "\n",
        "tensor_two_d_inv=tf.linalg.inv(tensor_two_d)"
      ],
      "metadata": {
        "id": "N248QmeLem9R"
      },
      "execution_count": 31,
      "outputs": []
    },
    {
      "cell_type": "code",
      "source": [
        "\n",
        "tensor_two_d@tensor_two_d_inv"
      ],
      "metadata": {
        "id": "y0Q87Fzieo_5",
        "outputId": "a47be425-0caf-4dde-896f-8a2480661274",
        "colab": {
          "base_uri": "https://localhost:8080/"
        }
      },
      "execution_count": 32,
      "outputs": [
        {
          "output_type": "execute_result",
          "data": {
            "text/plain": [
              "<tf.Tensor: shape=(3, 3), dtype=float32, numpy=\n",
              "array([[ 1.0000000e+00,  7.4505806e-09,  0.0000000e+00],\n",
              "       [ 1.6391277e-07,  1.0000000e+00,  4.4703484e-08],\n",
              "       [-5.2154064e-08,  7.4505806e-08,  1.0000000e+00]], dtype=float32)>"
            ]
          },
          "metadata": {},
          "execution_count": 32
        }
      ]
    }
  ]
}