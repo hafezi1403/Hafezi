{
  "nbformat": 4,
  "nbformat_minor": 0,
  "metadata": {
    "colab": {
      "provenance": [],
      "authorship_tag": "ABX9TyP32/PfJX6pbGwPvQ1sZd0l",
      "include_colab_link": true
    },
    "kernelspec": {
      "name": "python3",
      "display_name": "Python 3"
    },
    "language_info": {
      "name": "python"
    }
  },
  "cells": [
    {
      "cell_type": "markdown",
      "metadata": {
        "id": "view-in-github",
        "colab_type": "text"
      },
      "source": [
        "<a href=\"https://colab.research.google.com/github/hafezi1403/Hafezi/blob/main/Video_DL_1_30Second.ipynb\" target=\"_parent\"><img src=\"https://colab.research.google.com/assets/colab-badge.svg\" alt=\"Open In Colab\"/></a>"
      ]
    },
    {
      "cell_type": "code",
      "execution_count": 1,
      "metadata": {
        "id": "Hb6OJV1E5WWQ"
      },
      "outputs": [],
      "source": [
        "import tensorflow as tf\n",
        "import numpy as np"
      ]
    },
    {
      "cell_type": "code",
      "source": [
        "tensor_two_d=tf.constant([[1,-2,0],\n",
        "                          [3,5,100],\n",
        "                          [1,5,6]],dtype=tf.float32)\n",
        "\n",
        "s,u,v=tf.linalg.svd(tensor_two_d)\n",
        "print(s)\n",
        "print(u)\n",
        "print(v)"
      ],
      "metadata": {
        "colab": {
          "base_uri": "https://localhost:8080/"
        },
        "id": "Nw4r-N585hST",
        "outputId": "c68b78d2-1bf8-4163-a087-98dcd50ff776"
      },
      "execution_count": 2,
      "outputs": [
        {
          "output_type": "stream",
          "name": "stdout",
          "text": [
            "tf.Tensor([100.3663      5.1059036   1.2371687], shape=(3,), dtype=float32)\n",
            "tf.Tensor(\n",
            "[[-7.4980810e-04 -3.7569830e-01  9.2674178e-01]\n",
            " [ 9.9803799e-01 -5.8300879e-02 -2.2827482e-02]\n",
            " [ 6.2606096e-02  9.2490643e-01  3.7500489e-01]], shape=(3, 3), dtype=float32)\n",
            "tf.Tensor(\n",
            "[[ 0.03044816  0.07330841  0.99684453]\n",
            " [ 0.0528536   0.9957936  -0.07484547]\n",
            " [ 0.998138   -0.05496572 -0.02644547]], shape=(3, 3), dtype=float32)\n"
          ]
        }
      ]
    },
    {
      "cell_type": "code",
      "source": [
        "A=np.array([[2,6,5,2],\n",
        "            [2,-2,2,3],\n",
        "            [1,5,4,0]])\n",
        "\n",
        "B=np.array([[2,9,0,3,0],\n",
        "            [3,6,8,-2,2],\n",
        "            [1,3,5,0,1],\n",
        "            [3,0,2,0,5]])\n",
        "print(A.shape)\n",
        "print(B.shape)\n",
        "print(\"Matmul c=: \\n\")\n",
        "print(np.matmul(A,B), \"\\n\")\n",
        "print(\"Einsum c=:\\n\")\n",
        "print(np.einsum(\"ij,jk -> ik\",A,B))"
      ],
      "metadata": {
        "colab": {
          "base_uri": "https://localhost:8080/"
        },
        "id": "dQRXLbal5j9M",
        "outputId": "76431423-da92-45c1-86aa-b548d57dc947"
      },
      "execution_count": 3,
      "outputs": [
        {
          "output_type": "stream",
          "name": "stdout",
          "text": [
            "(3, 4)\n",
            "(4, 5)\n",
            "Matmul c=: \n",
            "\n",
            "[[33 69 77 -6 27]\n",
            " [ 9 12  0 10 13]\n",
            " [21 51 60 -7 14]] \n",
            "\n",
            "Einsum c=:\n",
            "\n",
            "[[33 69 77 -6 27]\n",
            " [ 9 12  0 10 13]\n",
            " [21 51 60 -7 14]]\n"
          ]
        }
      ]
    },
    {
      "cell_type": "code",
      "source": [
        "A=np.array([[2,6,5,2],\n",
        "            [2,-2,2,3],\n",
        "            [1,5,4,0]])\n",
        "\n",
        "\n",
        "B=np.array([[2,9,0,3],\n",
        "            [3,6,8,-2],\n",
        "            [1,3,5,0]])\n",
        "\n",
        "print(A.shape,B.shape)\n",
        "print(\"Hardamond c=:\\n\")\n",
        "print(A*B, \"\\n\")\n",
        "\n",
        "print(\"Einsum c=:\\n\")\n",
        "print(np.einsum('ij,ij -> ij',A,B))"
      ],
      "metadata": {
        "colab": {
          "base_uri": "https://localhost:8080/"
        },
        "id": "UuzYb2K25ltq",
        "outputId": "a3db5adf-b587-4865-e20e-a349242771d1"
      },
      "execution_count": 4,
      "outputs": [
        {
          "output_type": "stream",
          "name": "stdout",
          "text": [
            "(3, 4) (3, 4)\n",
            "Hardamond c=:\n",
            "\n",
            "[[  4  54   0   6]\n",
            " [  6 -12  16  -6]\n",
            " [  1  15  20   0]] \n",
            "\n",
            "Einsum c=:\n",
            "\n",
            "[[  4  54   0   6]\n",
            " [  6 -12  16  -6]\n",
            " [  1  15  20   0]]\n"
          ]
        }
      ]
    },
    {
      "cell_type": "code",
      "source": [
        "A=np.array([[2,6,5,2],\n",
        "            [2,-2,2,3],\n",
        "            [1,5,4,0]])\n",
        "\n",
        "print(\"Transposed A=:\\n\")\n",
        "print(A.T, \"\\n\")\n",
        "\n",
        "print(\"Einsum Transpose A=:\\n\")\n",
        "print(np.einsum(\"ij -> ji\",A))"
      ],
      "metadata": {
        "colab": {
          "base_uri": "https://localhost:8080/"
        },
        "id": "k7AdtRHb5p8q",
        "outputId": "046dafb0-ed01-4ba7-a6be-d8932331cdd7"
      },
      "execution_count": 5,
      "outputs": [
        {
          "output_type": "stream",
          "name": "stdout",
          "text": [
            "Transposed A=:\n",
            "\n",
            "[[ 2  2  1]\n",
            " [ 6 -2  5]\n",
            " [ 5  2  4]\n",
            " [ 2  3  0]] \n",
            "\n",
            "Einsum Transpose A=:\n",
            "\n",
            "[[ 2  2  1]\n",
            " [ 6 -2  5]\n",
            " [ 5  2  4]\n",
            " [ 2  3  0]]\n"
          ]
        }
      ]
    },
    {
      "cell_type": "code",
      "source": [
        "A=np.array([[[2,6,5,2],\n",
        "            [2,-2,2,3],\n",
        "            [1,5,4,0]],\n",
        "\n",
        "            [[1,3,1,22],\n",
        "             [0,2,2,0],\n",
        "             [1,5,4,1]]])\n",
        "\n",
        "B=np.array([\n",
        "            [[2,9,0,3,0],\n",
        "            [3,6,8,-2,2],\n",
        "            [1,3,5,0,1],\n",
        "            [3,0,2,0,5]],\n",
        "\n",
        "           [[1,0,0,3,0],\n",
        "            [3,0,4,-2,2],\n",
        "            [1,0,2,0,0],\n",
        "            [3,0,1,1,0]]])\n",
        "print(A.shape,B.shape)\n",
        "\n",
        "print(\"Batch Muitiplication c=:\\n\")\n",
        "print(np.matmul(A,B),\"\\n\")\n",
        "\n",
        "print(\"Einsum c=:\\n\")\n",
        "print(np.einsum('bij,bjk -> bik', A,B))"
      ],
      "metadata": {
        "colab": {
          "base_uri": "https://localhost:8080/"
        },
        "id": "VaKwy2lq5smS",
        "outputId": "0049c4c5-f546-4cbb-9d98-b4b29162e341"
      },
      "execution_count": 6,
      "outputs": [
        {
          "output_type": "stream",
          "name": "stdout",
          "text": [
            "(2, 3, 4) (2, 4, 5)\n",
            "Batch Muitiplication c=:\n",
            "\n",
            "[[[33 69 77 -6 27]\n",
            "  [ 9 12  0 10 13]\n",
            "  [21 51 60 -7 14]]\n",
            "\n",
            " [[77  0 36 19  6]\n",
            "  [ 8  0 12 -4  4]\n",
            "  [23  0 29 -6 10]]] \n",
            "\n",
            "Einsum c=:\n",
            "\n",
            "[[[33 69 77 -6 27]\n",
            "  [ 9 12  0 10 13]\n",
            "  [21 51 60 -7 14]]\n",
            "\n",
            " [[77  0 36 19  6]\n",
            "  [ 8  0 12 -4  4]\n",
            "  [23  0 29 -6 10]]]\n"
          ]
        }
      ]
    },
    {
      "cell_type": "code",
      "source": [
        "A=np.array([[[2,6,5,2],\n",
        "            [2,-2,2,3],\n",
        "            [1,5,4,0]],\n",
        "\n",
        "            [[1,3,1,22],\n",
        "             [0,2,2,0],\n",
        "             [1,5,4,1]]])\n",
        "print(\"sum A=: \\n\")\n",
        "print(np.sum(A), \"\\n\")\n",
        "\n",
        "print(\"Einsum A=:\\n\")\n",
        "print(np.einsum('bij -> ' ,A))"
      ],
      "metadata": {
        "colab": {
          "base_uri": "https://localhost:8080/"
        },
        "id": "LEjrmFml5wSz",
        "outputId": "02fe9877-1186-4a10-f5f3-751e2177bb48"
      },
      "execution_count": 7,
      "outputs": [
        {
          "output_type": "stream",
          "name": "stdout",
          "text": [
            "sum A=: \n",
            "\n",
            "72 \n",
            "\n",
            "Einsum A=:\n",
            "\n",
            "72\n"
          ]
        }
      ]
    },
    {
      "cell_type": "code",
      "source": [
        "A=np.array([[2,6,5,2],\n",
        "            [2,-2,2,3],\n",
        "            [1,5,4,0]])\n",
        "print(\"Axis 0 sum A=:\\n\")\n",
        "print(np.sum(A,axis=0),\"\\n\")\n",
        "\n",
        "print(\"Einsum A=:\\n\")\n",
        "print(np.einsum('ij -> j' ,A))\n",
        "print(\"---------------------------\")\n",
        "\n",
        "print(\"Axis 1 sum A=:\\n\")\n",
        "print(np.sum(A,axis=1), \"\\n\")\n",
        "\n",
        "print(\"Einsum A=:\\n\")\n",
        "print(np.einsum('ij -> i' ,A))"
      ],
      "metadata": {
        "colab": {
          "base_uri": "https://localhost:8080/"
        },
        "id": "A2XjsOb_5zYb",
        "outputId": "4ba1b04e-80ad-420d-e4d5-5e80db0f196d"
      },
      "execution_count": 8,
      "outputs": [
        {
          "output_type": "stream",
          "name": "stdout",
          "text": [
            "Axis 0 sum A=:\n",
            "\n",
            "[ 5  9 11  5] \n",
            "\n",
            "Einsum A=:\n",
            "\n",
            "[ 5  9 11  5]\n",
            "---------------------------\n",
            "Axis 1 sum A=:\n",
            "\n",
            "[15  5 10] \n",
            "\n",
            "Einsum A=:\n",
            "\n",
            "[15  5 10]\n"
          ]
        }
      ]
    },
    {
      "cell_type": "code",
      "source": [
        "\n",
        "A=np.random.randn(2,4,4,2) #bcij\n",
        "B=np.random.randn(2,4,4,1) #bcik"
      ],
      "metadata": {
        "id": "6RYSQ_E-58Xj"
      },
      "execution_count": 10,
      "outputs": []
    },
    {
      "cell_type": "code",
      "source": [
        "np.einsum(\"bcik,bcij -> bckj\", B,A).shape"
      ],
      "metadata": {
        "colab": {
          "base_uri": "https://localhost:8080/"
        },
        "id": "HnWnCjOt6AJJ",
        "outputId": "2f580ce2-b7cf-4902-840e-88887c6ecdf3"
      },
      "execution_count": 11,
      "outputs": [
        {
          "output_type": "execute_result",
          "data": {
            "text/plain": [
              "(2, 4, 1, 2)"
            ]
          },
          "metadata": {},
          "execution_count": 11
        }
      ]
    },
    {
      "cell_type": "code",
      "source": [
        "np.matmul(np.transpose(B,(0,1,3,2)),A).shape"
      ],
      "metadata": {
        "colab": {
          "base_uri": "https://localhost:8080/"
        },
        "id": "-A7UeDwp6Cfl",
        "outputId": "4c82eecc-aa11-4329-c38d-e2e3a5d45428"
      },
      "execution_count": 12,
      "outputs": [
        {
          "output_type": "execute_result",
          "data": {
            "text/plain": [
              "(2, 4, 1, 2)"
            ]
          },
          "metadata": {},
          "execution_count": 12
        }
      ]
    },
    {
      "cell_type": "code",
      "source": [
        "\n",
        "x_reshape = tf.constant([[3,5,6,6],\n",
        "                         [4,6,-1,2]])\n",
        "\n",
        "print(tf.reshape(x_reshape, [-1]))\n",
        "print(tf.reshape(x_reshape, [8]))"
      ],
      "metadata": {
        "colab": {
          "base_uri": "https://localhost:8080/"
        },
        "id": "tMGOiuO87dip",
        "outputId": "87be9286-d8e0-48a1-d959-c9a990b134ec"
      },
      "execution_count": 25,
      "outputs": [
        {
          "output_type": "stream",
          "name": "stdout",
          "text": [
            "tf.Tensor([ 3  5  6  6  4  6 -1  2], shape=(8,), dtype=int32)\n",
            "tf.Tensor([ 3  5  6  6  4  6 -1  2], shape=(8,), dtype=int32)\n"
          ]
        }
      ]
    },
    {
      "cell_type": "code",
      "source": [
        "tf.transpose(x_reshape)"
      ],
      "metadata": {
        "colab": {
          "base_uri": "https://localhost:8080/"
        },
        "id": "9-FtDndA7f4S",
        "outputId": "08f1ed05-ba53-4161-86ee-c343c70e47d8"
      },
      "execution_count": 26,
      "outputs": [
        {
          "output_type": "execute_result",
          "data": {
            "text/plain": [
              "<tf.Tensor: shape=(4, 2), dtype=int32, numpy=\n",
              "array([[ 3,  4],\n",
              "       [ 5,  6],\n",
              "       [ 6, -1],\n",
              "       [ 6,  2]], dtype=int32)>"
            ]
          },
          "metadata": {},
          "execution_count": 26
        }
      ]
    },
    {
      "cell_type": "code",
      "source": [
        "t1= [[1,2,3],\n",
        "     [4,5,6]]\n",
        "\n",
        "t2= [[7,8,9],\n",
        "     [10,11,12]]\n",
        "\n",
        "print(tf.constant(t1).shape)\n",
        "print(tf.constant(t2).shape)\n",
        "\n",
        "tf.concat([t1, t2], axis = 0)"
      ],
      "metadata": {
        "colab": {
          "base_uri": "https://localhost:8080/"
        },
        "id": "VHEIcuLX7jmz",
        "outputId": "dd847d3d-7bf8-4a29-d82c-165b2bcda0f2"
      },
      "execution_count": 27,
      "outputs": [
        {
          "output_type": "stream",
          "name": "stdout",
          "text": [
            "(2, 3)\n",
            "(2, 3)\n"
          ]
        },
        {
          "output_type": "execute_result",
          "data": {
            "text/plain": [
              "<tf.Tensor: shape=(4, 3), dtype=int32, numpy=\n",
              "array([[ 1,  2,  3],\n",
              "       [ 4,  5,  6],\n",
              "       [ 7,  8,  9],\n",
              "       [10, 11, 12]], dtype=int32)>"
            ]
          },
          "metadata": {},
          "execution_count": 27
        }
      ]
    },
    {
      "cell_type": "code",
      "source": [
        "tf.stack([t1,t2], axis = 0)"
      ],
      "metadata": {
        "colab": {
          "base_uri": "https://localhost:8080/"
        },
        "id": "Uw_mudEJ7mn7",
        "outputId": "bc3fbdcc-bc0b-4698-ae59-775d8d5cef37"
      },
      "execution_count": 28,
      "outputs": [
        {
          "output_type": "execute_result",
          "data": {
            "text/plain": [
              "<tf.Tensor: shape=(2, 2, 3), dtype=int32, numpy=\n",
              "array([[[ 1,  2,  3],\n",
              "        [ 4,  5,  6]],\n",
              "\n",
              "       [[ 7,  8,  9],\n",
              "        [10, 11, 12]]], dtype=int32)>"
            ]
          },
          "metadata": {},
          "execution_count": 28
        }
      ]
    },
    {
      "cell_type": "code",
      "source": [
        "tf.concat([tf.expand_dims(t, axis = 0) for t in [t1,t2]], axis = 0)"
      ],
      "metadata": {
        "colab": {
          "base_uri": "https://localhost:8080/"
        },
        "id": "r16-faD57pvD",
        "outputId": "af022508-9319-45d5-c1dd-bb100050b465"
      },
      "execution_count": 29,
      "outputs": [
        {
          "output_type": "execute_result",
          "data": {
            "text/plain": [
              "<tf.Tensor: shape=(2, 2, 3), dtype=int32, numpy=\n",
              "array([[[ 1,  2,  3],\n",
              "        [ 4,  5,  6]],\n",
              "\n",
              "       [[ 7,  8,  9],\n",
              "        [10, 11, 12]]], dtype=int32)>"
            ]
          },
          "metadata": {},
          "execution_count": 29
        }
      ]
    },
    {
      "cell_type": "code",
      "source": [
        "params = tf.constant(['p0', 'p1', 'p2', 'p3', 'p4', 'p5'])\n",
        "print(params.shape)\n",
        "params[1:3+1]\n"
      ],
      "metadata": {
        "colab": {
          "base_uri": "https://localhost:8080/"
        },
        "id": "iGlWaNrk7v5B",
        "outputId": "a3ae7821-8e27-4d28-c04f-36c1dd4ac44b"
      },
      "execution_count": 31,
      "outputs": [
        {
          "output_type": "stream",
          "name": "stdout",
          "text": [
            "(6,)\n"
          ]
        },
        {
          "output_type": "execute_result",
          "data": {
            "text/plain": [
              "<tf.Tensor: shape=(3,), dtype=string, numpy=array([b'p1', b'p2', b'p3'], dtype=object)>"
            ]
          },
          "metadata": {},
          "execution_count": 31
        }
      ]
    },
    {
      "cell_type": "code",
      "source": [
        "tf.gather(params, [0,5,3], axis = 0)"
      ],
      "metadata": {
        "colab": {
          "base_uri": "https://localhost:8080/"
        },
        "id": "qOXs4xCB7zQC",
        "outputId": "85416e6f-3f5c-4aff-87f8-9c1a23fc4fca"
      },
      "execution_count": 32,
      "outputs": [
        {
          "output_type": "execute_result",
          "data": {
            "text/plain": [
              "<tf.Tensor: shape=(3,), dtype=string, numpy=array([b'p0', b'p5', b'p3'], dtype=object)>"
            ]
          },
          "metadata": {},
          "execution_count": 32
        }
      ]
    },
    {
      "cell_type": "code",
      "source": [
        "params = tf.constant([\n",
        "\n",
        "                      [[0, 1.0, 2.0],\n",
        "                      [10.0, 11.0, 12.0],\n",
        "                      [20.0, 21.0, 22.0],\n",
        "                      [30.0, 31.0, 32.0]]\n",
        "\n",
        "                       ])\n",
        "print(params.shape)\n",
        "tf.gather(params, [2,0], axis = 1)"
      ],
      "metadata": {
        "colab": {
          "base_uri": "https://localhost:8080/"
        },
        "id": "xNGZvc0_73GC",
        "outputId": "9ad282f2-f857-49db-c389-8f086571ec59"
      },
      "execution_count": 33,
      "outputs": [
        {
          "output_type": "stream",
          "name": "stdout",
          "text": [
            "(1, 4, 3)\n"
          ]
        },
        {
          "output_type": "execute_result",
          "data": {
            "text/plain": [
              "<tf.Tensor: shape=(1, 2, 3), dtype=float32, numpy=\n",
              "array([[[20., 21., 22.],\n",
              "        [ 0.,  1.,  2.]]], dtype=float32)>"
            ]
          },
          "metadata": {},
          "execution_count": 33
        }
      ]
    },
    {
      "cell_type": "code",
      "source": [
        "indices = [[2]]\n",
        "\n",
        "params = [['a', 'b'],\n",
        "          ['c', 'd'],\n",
        "          ['e', 'f']]\n",
        "\n",
        "tf.gather_nd(params, indices)"
      ],
      "metadata": {
        "colab": {
          "base_uri": "https://localhost:8080/"
        },
        "id": "-8Ac716X76La",
        "outputId": "ec7285ea-434b-43c4-ae87-3595f61373a3"
      },
      "execution_count": 34,
      "outputs": [
        {
          "output_type": "execute_result",
          "data": {
            "text/plain": [
              "<tf.Tensor: shape=(1, 2), dtype=string, numpy=array([[b'e', b'f']], dtype=object)>"
            ]
          },
          "metadata": {},
          "execution_count": 34
        }
      ]
    },
    {
      "cell_type": "code",
      "source": [
        "indices = [[0,1],\n",
        "           [1,0]],\n",
        "\n",
        "\n",
        "params = [[['a0', 'b0'],\n",
        "           ['c0', 'd0']],\n",
        "\n",
        "           [['a1', 'b1'],\n",
        "            ['c1', 'd1']]]\n",
        "\n",
        "tf.gather_nd(params, indices, batch_dims = 0)"
      ],
      "metadata": {
        "colab": {
          "base_uri": "https://localhost:8080/"
        },
        "id": "YVJ66n1w8HMx",
        "outputId": "648c35b7-1952-4fc6-8509-b1c5c671dbd4"
      },
      "execution_count": 36,
      "outputs": [
        {
          "output_type": "execute_result",
          "data": {
            "text/plain": [
              "<tf.Tensor: shape=(1, 2, 2), dtype=string, numpy=\n",
              "array([[[b'c0', b'd0'],\n",
              "        [b'a1', b'b1']]], dtype=object)>"
            ]
          },
          "metadata": {},
          "execution_count": 36
        }
      ]
    },
    {
      "cell_type": "code",
      "source": [
        "tensor_two_d=tf.constant([[1,2,0],\n",
        "                          [3,5,-1],\n",
        "                          [1,5,6],\n",
        "                          [2,3,8]])\n",
        "\n",
        "print(tensor_two_d.shape)"
      ],
      "metadata": {
        "colab": {
          "base_uri": "https://localhost:8080/"
        },
        "id": "54ZvAcxe8JTD",
        "outputId": "319289a7-7665-4653-8ff6-d105471fbff6"
      },
      "execution_count": 37,
      "outputs": [
        {
          "output_type": "stream",
          "name": "stdout",
          "text": [
            "(4, 3)\n"
          ]
        }
      ]
    },
    {
      "cell_type": "code",
      "source": [
        "tensor_two_d = [[1,2,0],\n",
        "                [3,],\n",
        "                [1,5,6,5,6],\n",
        "                [2,3]]\n",
        "\n",
        "tensor_ragged = tf.ragged.constant(tensor_two_d)\n",
        "print(tensor_ragged)"
      ],
      "metadata": {
        "colab": {
          "base_uri": "https://localhost:8080/"
        },
        "id": "AfG_2hnN8MlJ",
        "outputId": "a453eb03-cdd3-4054-f4bc-97da3a0ba7e3"
      },
      "execution_count": 38,
      "outputs": [
        {
          "output_type": "stream",
          "name": "stdout",
          "text": [
            "<tf.RaggedTensor [[1, 2, 0], [3], [1, 5, 6, 5, 6], [2, 3]]>\n"
          ]
        }
      ]
    },
    {
      "cell_type": "code",
      "source": [
        "\n",
        "print(tf.RaggedTensor.from_row_lengths(\n",
        "      values=[3,1,4,1,5,9,2,6],\n",
        "      row_lengths=[4,0,3,1,0]))"
      ],
      "metadata": {
        "colab": {
          "base_uri": "https://localhost:8080/"
        },
        "id": "WMkM7My48QIy",
        "outputId": "1cb687e6-2dad-4f03-afcf-08b559cf3398"
      },
      "execution_count": 39,
      "outputs": [
        {
          "output_type": "stream",
          "name": "stdout",
          "text": [
            "<tf.RaggedTensor [[3, 1, 4, 1], [], [5, 9, 2], [6], []]>\n"
          ]
        }
      ]
    }
  ]
}